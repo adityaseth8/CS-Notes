{
 "cells": [
  {
   "attachments": {},
   "cell_type": "markdown",
   "metadata": {},
   "source": [
    "# Contains Duplicate\n",
    "### LC Easy\n",
    "\n",
    "Given an integer array nums, return true if any value appears at least twice in the array, and return false if every element is distinct.\n",
    "\n",
    "Example:  \n",
    "Input: nums = [1,2,3,1]\n",
    "Output: true\n",
    "\n",
    "Initial Solution: set data structure contains no duplicates. It's length should be the same as the original nums array to ensure no duplicate characters.\n",
    "\n",
    "Runtime: 485 ms (79.86 percentile) | **O(n) runtime**  \n",
    "Memory: 29.2mb (16.5 percentile) | **O(n) potential space** if set is same length as nums"
   ]
  },
  {
   "cell_type": "code",
   "execution_count": null,
   "metadata": {},
   "outputs": [],
   "source": [
    "class Solution(object):\n",
    "    def containsDuplicate(self, nums):\n",
    "        return len(set(nums)) != len(nums)\n",
    "        \n",
    "        \"\"\"\n",
    "        :type nums: List[int]\n",
    "        :rtype: bool\n",
    "        \"\"\""
   ]
  },
  {
   "attachments": {},
   "cell_type": "markdown",
   "metadata": {},
   "source": [
    "Neetcode solution: Similar approach as above, but potentially cutting down on runtime by not having to go through the entire nums array in cases where duplicate is present in very beginning of array?\n",
    "\n",
    "__Time Complexity: O(n)__ | if nums has no dupe & we check every element\n",
    "\n",
    "__Space Complexity: O(n)__ | if nums has no dupe & we just add every element to the set"
   ]
  },
  {
   "cell_type": "code",
   "execution_count": null,
   "metadata": {},
   "outputs": [],
   "source": [
    "class Solution(object):\n",
    "    def containsDuplicate(self, nums):\n",
    "        x = set()\n",
    "\n",
    "        for i in nums:\n",
    "            if i in x:\n",
    "                return True\n",
    "            x.add(i)\n",
    "        return False"
   ]
  }
 ],
 "metadata": {
  "kernelspec": {
   "display_name": "Python 3",
   "language": "python",
   "name": "python3"
  },
  "language_info": {
   "name": "python",
   "version": "3.9.1"
  },
  "orig_nbformat": 4
 },
 "nbformat": 4,
 "nbformat_minor": 2
}
