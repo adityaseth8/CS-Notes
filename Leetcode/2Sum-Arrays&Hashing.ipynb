{
 "cells": [
  {
   "attachments": {},
   "cell_type": "markdown",
   "metadata": {},
   "source": [
    "# Two Sum\n",
    "\n",
    "### LC Easy\n",
    "\n",
    "Given an array of integers nums and an integer target, return indices of the two numbers such that they add up to target.\n",
    "\n",
    "You may assume that each input would have exactly one solution, and you may not use the same element twice.\n",
    "\n",
    "Example:  \n",
    "Input: nums = [2,7,11,15], target = 9  \n",
    "Output: [0,1]  \n",
    "Explanation: Because nums[0] + nums[1] == 9, we return [0, 1]. \n",
    "\n",
    "**Initial Solution:** Brute force"
   ]
  },
  {
   "cell_type": "code",
   "execution_count": 2,
   "metadata": {},
   "outputs": [],
   "source": [
    "class Solution(object):\n",
    "    def twoSum(self, nums, target):\n",
    "        # Brute force  method (for practice):\n",
    "\n",
    "        for i in range(0,len(nums)-1):\n",
    "            for j in range(i+1,len(nums)):\n",
    "                if ((nums[i] + nums[j] == target) and (i != j)):\n",
    "                    return ([i,j])\n",
    "                \n",
    "# Disclaimer:\n",
    "# range(5) --> 0,1,..,4  (STOPS 1 number before!)\n",
    "\n",
    "# ex: nums=[3,2,4] target=6\n",
    "#    index: 0,1,2\n",
    "# for i in range (0,2) --> i=0,1\n",
    "#     for j in range (1,3) --> when i=0, j=1,2\n",
    "#     for j in range (2,3) --> when i=1, j=2\n"
   ]
  },
  {
   "attachments": {},
   "cell_type": "markdown",
   "metadata": {},
   "source": [
    "**Optimal Solution:** Hash Map\n",
    "\n",
    "Creating a hashmap where key is the number, value is the index of the specific number in the array. We loop through the nums array, calculate the 2nd addend value needed to reach the target. Check if the 2nd addend value is in the hashmap. If yes, you've found the 2 possible numbers. If not, you add the current number you're on, into the hashmap\n",
    "\n",
    "Runtime 36 ms (97.48 percentile)  \n",
    "Memory 14.3 MB (52.6 percentile)"
   ]
  },
  {
   "cell_type": "code",
   "execution_count": null,
   "metadata": {},
   "outputs": [],
   "source": [
    "class Solution(object):\n",
    "    def twoSum(self, nums, target):\n",
    "        hashmap = {}\n",
    "        # key is num, value is index\n",
    "\n",
    "        for i, num in enumerate(nums):\n",
    "            remainder = target - num\n",
    "            if (remainder in hashmap):\n",
    "                return ([i, hashmap[remainder]])\n",
    "            else:\n",
    "                hashmap[num] = i                \n",
    "        return []\n",
    "\n",
    "        \"\"\"\n",
    "        :type nums: List[int]\n",
    "        :type target: int\n",
    "        :rtype: List[int]\n",
    "        \"\"\""
   ]
  },
  {
   "attachments": {},
   "cell_type": "markdown",
   "metadata": {},
   "source": [
    "**Misc: Attempt at 2 Pointer Approach**\n",
    "\n",
    "<span style=\"color:red\">Issue</span>: Hard to keep track of index vals for each number in the original array. In order to track, you'd need to set up a dictionary anyways. \n",
    "This approach works well if you array is either already sorted, or if you simply need to return the values, not the index positions"
   ]
  },
  {
   "cell_type": "code",
   "execution_count": null,
   "metadata": {},
   "outputs": [],
   "source": [
    "class Solution(object):\n",
    "    def twoSum(self, nums, target):\n",
    "        sNums = sorted(nums)\n",
    "        i,j = 0, len(sNums) - 1\n",
    "\n",
    "        while (i <= j):\n",
    "            sum = sNums[i] + sNums[j]\n",
    "            if sum == target:\n",
    "                return [i,j]\n",
    "            elif sum < target:\n",
    "                i += 1\n",
    "            else:\n",
    "                j -= 1\n",
    "        "
   ]
  }
 ],
 "metadata": {
  "kernelspec": {
   "display_name": "Python 3",
   "language": "python",
   "name": "python3"
  },
  "language_info": {
   "codemirror_mode": {
    "name": "ipython",
    "version": 3
   },
   "file_extension": ".py",
   "mimetype": "text/x-python",
   "name": "python",
   "nbconvert_exporter": "python",
   "pygments_lexer": "ipython3",
   "version": "3.9.1"
  },
  "orig_nbformat": 4
 },
 "nbformat": 4,
 "nbformat_minor": 2
}
