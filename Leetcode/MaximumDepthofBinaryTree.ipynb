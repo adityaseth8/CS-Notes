{
 "cells": [
  {
   "attachments": {},
   "cell_type": "markdown",
   "metadata": {},
   "source": [
    "# Maximum Depth of Binary Tree\n",
    "\n",
    "### LC Easy\n",
    "\n",
    "Given the root of a binary tree, return its maximum depth.\n",
    "\n",
    "A binary tree's maximum depth is the number of nodes along the longest path from the root node down to the farthest leaf node."
   ]
  },
  {
   "cell_type": "code",
   "execution_count": null,
   "metadata": {},
   "outputs": [],
   "source": [
    "# Intial Solution: BFS Iterative \n",
    "\n",
    "# Definition for a binary tree node.\n",
    "# class TreeNode(object):\n",
    "#     def __init__(self, val=0, left=None, right=None):\n",
    "#         self.val = val\n",
    "#         self.left = left\n",
    "#         self.right = right\n",
    "class Solution(object):\n",
    "    def maxDepth(self, root):\n",
    "        # BFS method\n",
    "        maxDepth = 0\n",
    "\n",
    "        if not root:\n",
    "            return maxDepth\n",
    "        \n",
    "        frontierQueue = [[root,1]]    # [node, node depth]\n",
    "                                      # Alt: [{root : 1}]\n",
    "        while (frontierQueue):\n",
    "            treeNode, currDepth = frontierQueue.pop(0)\n",
    "            \n",
    "            maxDepth = max(currDepth, maxDepth) # check with maxDepth\n",
    "\n",
    "            if (treeNode.left):\n",
    "                frontierQueue.append([treeNode.left, currDepth+1])\n",
    "            if (treeNode.right):\n",
    "                frontierQueue.append([treeNode.right, currDepth+1])\n",
    "        return maxDepth\n",
    "        \"\"\"\n",
    "        :type root: TreeNode\n",
    "        :rtype: int\n",
    "        \"\"\""
   ]
  },
  {
   "cell_type": "code",
   "execution_count": null,
   "metadata": {},
   "outputs": [],
   "source": [
    "# Ryan's Initial Solution: Recursive DFS\n",
    "\n",
    "# Definition for a binary tree node.\n",
    "# class TreeNode:\n",
    "#     def __init__(self, val=0, left=None, right=None):\n",
    "#         self.val = val\n",
    "#         self.left = left\n",
    "#         self.right = right\n",
    "class Solution:\n",
    "    def maxDepth(self, root: Optional[TreeNode]) -> int:\n",
    "        if not root:\n",
    "            return 0\n",
    "        \n",
    "        return max(self.maxDepth(root.left) + 1, self.maxDepth(root.right) + 1)"
   ]
  },
  {
   "cell_type": "code",
   "execution_count": null,
   "metadata": {},
   "outputs": [],
   "source": [
    "# Ryan's Alternative Solution: BFS iterative\n",
    "\n",
    "# Definition for a binary tree node.\n",
    "# class TreeNode:\n",
    "#     def __init__(self, val=0, left=None, right=None):\n",
    "#         self.val = val\n",
    "#         self.left = left\n",
    "#         self.right = right\n",
    "class Solution:\n",
    "    def maxDepth(self, root: Optional[TreeNode]) -> int:\n",
    "        # BFS iterative\n",
    "\n",
    "        if not root:\n",
    "            return 0\n",
    "\n",
    "        queue = [(root, 1)]\n",
    "        maxDepth = 1\n",
    "\n",
    "        while queue:\n",
    "            cur, depth = queue.pop(0)\n",
    "            maxDepth = max(maxDepth, depth)\n",
    "\n",
    "            if cur.left:\n",
    "                queue.append((cur.left, depth + 1))\n",
    "            if cur.right:\n",
    "                queue.append((cur.right, depth + 1))\n",
    "\n",
    "        return maxDepth"
   ]
  },
  {
   "cell_type": "code",
   "execution_count": 1,
   "metadata": {},
   "outputs": [],
   "source": [
    "# Neetcode BFS solution\n",
    "from collections import deque\n",
    "\n",
    "class Solution(object):\n",
    "    def maxDepth(self, root):\n",
    "        if not root:\n",
    "            return 0\n",
    "        level = 0\n",
    "        q = deque([root])\n",
    "        while q:\n",
    "            for i in range(len(q)):\n",
    "                node = q.popleft()\n",
    "                if node.left:\n",
    "                    q.append(node.left)\n",
    "                if node.right:\n",
    "                    q.append(node.right)\n",
    "            level += 1\n",
    "        return level"
   ]
  },
  {
   "cell_type": "code",
   "execution_count": null,
   "metadata": {},
   "outputs": [],
   "source": [
    "# Neetcode iterative DFS Solution\n",
    "\n",
    "class Solution(object):\n",
    "    def maxDepth(self, root):\n",
    "        stack = [[root,1]]\n",
    "        res = 0\n",
    "\n",
    "        while stack:\n",
    "            node, depth = stack.pop()\n",
    "\n",
    "            if node:\n",
    "                res = max(res, depth)\n",
    "                stack.append([node.left, depth+1])\n",
    "                stack.append([node.right, depth+1])\n",
    "        return res\n"
   ]
  }
 ],
 "metadata": {
  "kernelspec": {
   "display_name": "Python 3",
   "language": "python",
   "name": "python3"
  },
  "language_info": {
   "codemirror_mode": {
    "name": "ipython",
    "version": 3
   },
   "file_extension": ".py",
   "mimetype": "text/x-python",
   "name": "python",
   "nbconvert_exporter": "python",
   "pygments_lexer": "ipython3",
   "version": "3.9.1"
  },
  "orig_nbformat": 4
 },
 "nbformat": 4,
 "nbformat_minor": 2
}
