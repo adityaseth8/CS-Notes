{
 "cells": [
  {
   "attachments": {},
   "cell_type": "markdown",
   "metadata": {},
   "source": [
    "# Pascal's Triangle\n",
    "\n",
    "### LC Easy\n",
    "\n",
    "Given an integer numRows, return the first numRows of Pascal's triangle.  \n",
    "\n",
    "In Pascal's triangle, each number is the sum of the two numbers directly above it as shown:  \n",
    "\n",
    "Input: numRows = 5  \n",
    "Output: [[1],[1,1],[1,2,1],[1,3,3,1],[1,4,6,4,1]]  \n",
    "\n",
    "Input: numRows = 1  \n",
    "Output: [[1]]  "
   ]
  },
  {
   "cell_type": "code",
   "execution_count": 1,
   "metadata": {},
   "outputs": [],
   "source": [
    "# Initial solution: Basically computed as how I would do it by hand\n",
    "# Technically dynamic programming, caching results of intermediate steps\n",
    "class Solution(object):\n",
    "    def generate(self, numRows):\n",
    "        if numRows == 1:\n",
    "            return [[1]]\n",
    "        if numRows == 2:\n",
    "            return [[1], [1,1]]\n",
    "        res = [[1], [1,1]]\n",
    "\n",
    "        for i in range(2, numRows): # remember 0 indexing\n",
    "            currRow = [1]\n",
    "            for j in range(len(res[i-1])-1): # 0 to 1\n",
    "                val = res[i-1][j] + res[i-1][j+1]\n",
    "                currRow.append(val)\n",
    "            currRow.append(1)\n",
    "            res.append(currRow)\n",
    "        return res\n",
    "        \"\"\"\n",
    "        :type numRows: int\n",
    "        :rtype: List[List[int]]\n",
    "        \"\"\"\n",
    "\n",
    "        # [1, 2, 1] \n",
    "        # len = 3\n",
    "        # range (3) = 0 1 2\n",
    "\n",
    "        # 0,1\n",
    "        # 1,2\n",
    "\n",
    "        # only need values 0,1 for j \n",
    "        # so range (3-1) = range(2)"
   ]
  },
  {
   "cell_type": "code",
   "execution_count": null,
   "metadata": {},
   "outputs": [],
   "source": [
    "# Neetcode Solution: Adding 0's at both ends of array temporarily to do calculations\n",
    "\n",
    "class Solution(object):\n",
    "    def generate(self, numRows):\n",
    "        # ex: numRows = 3\n",
    "        res = [[1]]\n",
    "        for i in range(numRows - 1): #to range(2) -> 0,1 b/c we alr hav row 1\n",
    "        # for _ in range(2,numRows): equiv since i not used in computations\n",
    "            temp = [0] + res[-1] + [0] # adding 0's to end of prev row\n",
    "            row = []\n",
    "            for j in range(len(temp)-1):\n",
    "                row.append(temp[j] + temp[j+1])\n",
    "            res.append(row)\n",
    "        return res\n",
    "\n",
    "    # index:  0  1  2  3\n",
    "    #         0  1  1  0\n",
    "    #           1  2  1"
   ]
  }
 ],
 "metadata": {
  "kernelspec": {
   "display_name": "Python 3",
   "language": "python",
   "name": "python3"
  },
  "language_info": {
   "codemirror_mode": {
    "name": "ipython",
    "version": 3
   },
   "file_extension": ".py",
   "mimetype": "text/x-python",
   "name": "python",
   "nbconvert_exporter": "python",
   "pygments_lexer": "ipython3",
   "version": "3.9.1"
  },
  "orig_nbformat": 4
 },
 "nbformat": 4,
 "nbformat_minor": 2
}
