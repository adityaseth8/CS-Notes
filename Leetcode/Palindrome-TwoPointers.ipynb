{
 "cells": [
  {
   "attachments": {},
   "cell_type": "markdown",
   "metadata": {},
   "source": [
    "Two Pointer Technique\n",
    "\n",
    "Version 1: One pointer starts from beginning, other pointer starts from the end. Move to eachother until they both meet"
   ]
  },
  {
   "attachments": {},
   "cell_type": "markdown",
   "metadata": {},
   "source": [
    "A phrase is a palindrome if, after converting all uppercase letters into lowercase letters and removing all non-alphanumeric characters, it reads the same forward and backward. Alphanumeric characters include letters and numbers.\n",
    "\n",
    "Given a string s, return true if it is a palindrome, or false otherwise."
   ]
  },
  {
   "attachments": {},
   "cell_type": "markdown",
   "metadata": {},
   "source": [
    "**Initial Solution:**\n",
    "\n",
    "Runtime: 301 ms (18th percentile)\n",
    "Memory: 15 mb   (46.7 percentile)"
   ]
  },
  {
   "cell_type": "code",
   "execution_count": null,
   "metadata": {},
   "outputs": [],
   "source": [
    "class Solution(object):\n",
    "    def isPalindrome(self, s):\n",
    "        # convert all uppercase into lowercase\n",
    "        lcStr = s.lower()\n",
    "        # remove all non-alphanumeric characters, append to filtered string\n",
    "        filteredStr = ''\n",
    "        for ch in lcStr:\n",
    "            if (ch.isalnum()):\n",
    "                filteredStr += ch\n",
    "\n",
    "        # establish 2 pointers\n",
    "        i = 0\n",
    "        j = len(filteredStr) - 1\n",
    "        while (i < j):\n",
    "            if  filteredStr[i] != filteredStr[j]:\n",
    "                return False\n",
    "            i += 1\n",
    "            j -= 1\n",
    "        return True\n",
    "\n",
    "        \"\"\"\n",
    "        :type s: str\n",
    "        :rtype: bool\n",
    "        \"\"\""
   ]
  },
  {
   "attachments": {},
   "cell_type": "markdown",
   "metadata": {},
   "source": [
    "**Modified Initial Solution:**\n",
    "\n",
    "Modification: Remove lcStr = s.lower() \n",
    "This reduces runtime a bit because you are avoiding assigning the string to the new variable lcStr, aka it is reducing the number of operations executed\n",
    "This does not reduce memory because __\n",
    "*I thought it would reduce memory by avoiding creating an additional string variable*\n",
    "\n",
    "Runtime: 298 ms (20.8 percentile)\n",
    "Memory: 15 mb   (46.7 percentile)"
   ]
  },
  {
   "cell_type": "code",
   "execution_count": null,
   "metadata": {},
   "outputs": [],
   "source": [
    "class Solution(object):\n",
    "    def isPalindrome(self, s):\n",
    "        \n",
    "        filteredStr = ''\n",
    "        for ch in s.lower():\n",
    "            if (ch.isalnum()):\n",
    "                filteredStr += ch\n",
    "\n",
    "        i = 0\n",
    "        j = len(filteredStr) - 1\n",
    "        while (i < j):\n",
    "            if  filteredStr[i] != filteredStr[j]:\n",
    "                return False\n",
    "            i += 1\n",
    "            j -= 1\n",
    "        return True"
   ]
  },
  {
   "attachments": {},
   "cell_type": "markdown",
   "metadata": {},
   "source": [
    "**Modified Initial Solution v3:**\n",
    "\n",
    "Modification: Avoid string concatenation as it created new string object everytime string concatenation occurs, thus uneccessary memory allocation/copying of characters\n",
    "\n",
    "Using list to store filtered characters, join them into string at the end\n",
    "\n",
    "Runtime: 43 ms (50.4 percentile)\n",
    "Memory: 14.7 mb (60.9 percentile)"
   ]
  },
  {
   "cell_type": "code",
   "execution_count": null,
   "metadata": {},
   "outputs": [],
   "source": [
    "class Solution(object):\n",
    "    def isPalindrome(self, s):\n",
    "        \n",
    "        filteredChars = []\n",
    "        for ch in s.lower():\n",
    "            if (ch.isalnum()):\n",
    "                filteredStr.append(ch)\n",
    "        filteredStr = ''.join(filteredChars)\n",
    "\n",
    "        i = 0\n",
    "        j = len(filteredStr) - 1\n",
    "        while (i < j):\n",
    "            if  filteredStr[i] != filteredStr[j]:\n",
    "                return False\n",
    "            i += 1\n",
    "            j -= 1\n",
    "        return True"
   ]
  },
  {
   "attachments": {},
   "cell_type": "markdown",
   "metadata": {},
   "source": [
    "**Online Solution: Memory Efficient**\n",
    "\n",
    "Performing palindrome check directly on input string, no separate strings creatied. \n",
    "\n",
    "Runtime: 47 ms (44.8 percentile)\n",
    "Memory: 13.9 mb (95.5 percentile)"
   ]
  },
  {
   "cell_type": "code",
   "execution_count": null,
   "metadata": {},
   "outputs": [],
   "source": [
    "class Solution(object):\n",
    "    def isPalindrome(self, s):\n",
    "        i = 0\n",
    "        j = len(s) - 1\n",
    "\n",
    "        while i < j:\n",
    "            if not s[i].isalnum():\n",
    "                i += 1\n",
    "                continue\n",
    "            if not s[j].isalnum():\n",
    "                j -= 1\n",
    "                continue\n",
    "            if s[i].lower() != s[j].lower():\n",
    "                return False\n",
    "            i += 1\n",
    "            j -= 1\n",
    "\n",
    "        return True"
   ]
  },
  {
   "attachments": {},
   "cell_type": "markdown",
   "metadata": {},
   "source": [
    "**Online Solution: Runtime & Memory Efficient**\n",
    "\n",
    "Modification: Call s.lower() once at the beginning of the function. Reduces the number of times the lower() method is called.   \n",
    "\n",
    "Runtime: 24 ms (96.2 percentile)\n",
    "Memory: 14 mb (83.71 percentile)"
   ]
  },
  {
   "cell_type": "code",
   "execution_count": null,
   "metadata": {},
   "outputs": [],
   "source": [
    "class Solution(object):\n",
    "    def isPalindrome(self, s):\n",
    "        i = 0\n",
    "        j = len(s)-1\n",
    "        s = s.lower()\n",
    "        while(i<=j):  # changing this to i<j increases runtime to 31ms (84.1%)\n",
    "            if not s[i].isalnum():\n",
    "                i = i + 1\n",
    "                continue\n",
    "            if not s[j].isalnum():\n",
    "                j = j - 1\n",
    "                continue\n",
    "            if s[i]!=s[j]:\n",
    "                return False\n",
    "            i = i + 1\n",
    "            j = j - 1\n",
    "        return True"
   ]
  },
  {
   "attachments": {},
   "cell_type": "markdown",
   "metadata": {},
   "source": [
    "**Misc**\n",
    "**Online Solution: Effcient Runtime, Poor Memory**\n",
    "\n",
    "Modification: Using list comprehension, no 2 pointer system\n",
    "\n",
    "```newlist = [expression for item in iterable if condition == True]```\n",
    "return value is new list, leaving old list unchanged\n",
    "\n",
    "Runtime: 32 ms (80.85 percentile)\n",
    "Memory: 15.9 mb (15.71 percentile)"
   ]
  },
  {
   "cell_type": "code",
   "execution_count": null,
   "metadata": {},
   "outputs": [],
   "source": [
    "class Solution(object):\n",
    "    def isPalindrome(self, s):\n",
    "        \n",
    "        s = s.lower()\n",
    "        letters = [x for x in s if x.isalnum()]\n",
    "        for i in range(len(letters) // 2):\n",
    "            if letters[i] != letters[-(i + 1)]:\n",
    "                return False\n",
    "        return True"
   ]
  }
 ],
 "metadata": {
  "kernelspec": {
   "display_name": "Python 3",
   "language": "python",
   "name": "python3"
  },
  "language_info": {
   "name": "python",
   "version": "3.9.1"
  },
  "orig_nbformat": 4
 },
 "nbformat": 4,
 "nbformat_minor": 2
}
