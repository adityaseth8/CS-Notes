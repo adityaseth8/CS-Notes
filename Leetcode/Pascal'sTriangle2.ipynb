{
 "cells": [
  {
   "attachments": {},
   "cell_type": "markdown",
   "metadata": {},
   "source": [
    "# Pascal's Triangle\n",
    "\n",
    "### LC Easy\n",
    "\n",
    "Given an integer rowIndex, return the rowIndexth (0-indexed) row of the Pascal's triangle.\n",
    "\n",
    "In Pascal's triangle, each number is the sum of the two numbers directly above it as shown:\n",
    "\n",
    "Input: rowIndex = 3  \n",
    "Output: [1,3,3,1]  \n",
    "\n",
    "Input: rowIndex = 1  \n",
    "Output: [1,1]  "
   ]
  },
  {
   "cell_type": "code",
   "execution_count": 1,
   "metadata": {},
   "outputs": [],
   "source": [
    "# Initial Solution: Took Neetcode's idea from prev Pascal's problem \n",
    "# (of adding 0's on ends for computation)\n",
    "class Solution(object):\n",
    "    def getRow(self, rowIndex):\n",
    "        if rowIndex == 0:\n",
    "            return [1]\n",
    "        prevRow = [1]\n",
    "\n",
    "        for i in range(1, rowIndex + 1):\n",
    "            currRow = []\n",
    "            temp = [0] + prevRow + [0]  # 0 1 0\n",
    "            for j in range(len(temp)-1):    # range(2) -> 0, 1\n",
    "                currRow.append(temp[j] + temp[j+1]) # 0 + 1, 1 + 0\n",
    "            prevRow = currRow\n",
    "        \n",
    "        return prevRow\n",
    "\n",
    "        \"\"\"\n",
    "        :type rowIndex: int\n",
    "        :rtype: List[int]\n",
    "        \"\"\""
   ]
  }
 ],
 "metadata": {
  "kernelspec": {
   "display_name": "Python 3",
   "language": "python",
   "name": "python3"
  },
  "language_info": {
   "codemirror_mode": {
    "name": "ipython",
    "version": 3
   },
   "file_extension": ".py",
   "mimetype": "text/x-python",
   "name": "python",
   "nbconvert_exporter": "python",
   "pygments_lexer": "ipython3",
   "version": "3.9.1"
  },
  "orig_nbformat": 4
 },
 "nbformat": 4,
 "nbformat_minor": 2
}
