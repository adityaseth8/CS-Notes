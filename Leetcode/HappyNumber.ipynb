{
 "cells": [
  {
   "attachments": {},
   "cell_type": "markdown",
   "metadata": {},
   "source": [
    "# Happy Number\n",
    "\n",
    "### LC Easy\n",
    "\n",
    "Write an algorithm to determine if a number n is happy.\n",
    "\n",
    "A happy number is a number defined by the following process:\n",
    "\n",
    "Starting with any positive integer, replace the number by the sum of the squares of its digits.\n",
    "Repeat the process until the number equals 1 (where it will stay), or it loops endlessly in a cycle which does not include 1.  \n",
    "Those numbers for which this process ends in 1 are happy.  \n",
    "Return true if n is a happy number, and false if not. "
   ]
  },
  {
   "cell_type": "code",
   "execution_count": 1,
   "metadata": {},
   "outputs": [],
   "source": [
    "# Aditya Initial Solution\n",
    "\n",
    "# Time Complexity:\n",
    "# While loop to keep compute sum of squares of each digit until total of 1 is reached\n",
    "# Return false if infinite looping/cycle detected (aka same total already found)\n",
    "\n",
    "class Solution(object):\n",
    "    def isHappy(self, n):\n",
    "        sumSquares = set()\n",
    "        while (n != 1):\n",
    "            res = 0\n",
    "            # get all digits of number\n",
    "            while(n > 0):\n",
    "                digit = n % 10\n",
    "                res += digit ** 2 # sum of squares\n",
    "                n = n // 10\n",
    "            \n",
    "            if res in sumSquares:\n",
    "                return False\n",
    "            n = res\n",
    "            sumSquares.add(res)\n",
    "            \n",
    "        return True\n",
    "\n",
    "# 19 % 10 = 9\n",
    "# 19 // 10 = 1 (floor operation)\n",
    "# want 1 % 10 = 1\n",
    "\n",
    "        \"\"\"\n",
    "        :type n: int\n",
    "        :rtype: bool\n",
    "        \"\"\""
   ]
  },
  {
   "cell_type": "code",
   "execution_count": null,
   "metadata": {},
   "outputs": [],
   "source": [
    "# Ryan Initial Solution\n",
    "\n",
    "class Solution:\n",
    "    def isHappy(self, n: int) -> bool:\n",
    "        visited = set()\n",
    "\n",
    "        happy = False\n",
    "        prev = str(n)\n",
    "\n",
    "        while True:\n",
    "            num = str(prev)\n",
    "            tot = 0\n",
    "            \n",
    "            for c in num:\n",
    "                tot += int(c) ** 2\n",
    "\n",
    "            if tot == 1:\n",
    "                happy = True\n",
    "                break\n",
    "\n",
    "            if tot in visited:\n",
    "                break\n",
    "            \n",
    "            visited.add(tot)\n",
    "            prev = tot\n",
    "\n",
    "        return happy"
   ]
  },
  {
   "cell_type": "code",
   "execution_count": null,
   "metadata": {},
   "outputs": [],
   "source": [
    "# Neetcode Solution\n",
    "\n",
    "# Using fast and slow pointers to detect potential cycles\n",
    "\n",
    "class Solution(object):\n",
    "    def isHappy(self, n):\n",
    "        slow, fast = n, self.sumSquareDigits(n)\n",
    "\n",
    "        while slow != fast:\n",
    "            fast = self.sumSquareDigits(fast)\n",
    "            fast = self.sumSquareDigits(fast)\n",
    "            slow = self.sumSquareDigits(slow)\n",
    "\n",
    "        return True if fast == 1 else False\n",
    "\n",
    "    def sumSquareDigits(self, n):\n",
    "        output = 0\n",
    "        while n:\n",
    "            output += (n % 10) ** 2\n",
    "            n = n // 10\n",
    "        return output"
   ]
  }
 ],
 "metadata": {
  "kernelspec": {
   "display_name": "Python 3",
   "language": "python",
   "name": "python3"
  },
  "language_info": {
   "codemirror_mode": {
    "name": "ipython",
    "version": 3
   },
   "file_extension": ".py",
   "mimetype": "text/x-python",
   "name": "python",
   "nbconvert_exporter": "python",
   "pygments_lexer": "ipython3",
   "version": "3.9.1"
  },
  "orig_nbformat": 4
 },
 "nbformat": 4,
 "nbformat_minor": 2
}
