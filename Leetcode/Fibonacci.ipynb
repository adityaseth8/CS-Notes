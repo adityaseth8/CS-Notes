{
 "cells": [
  {
   "attachments": {},
   "cell_type": "markdown",
   "metadata": {},
   "source": [
    "# Fibonacci Number\n",
    "\n",
    "### LC Easy\n",
    "\n",
    "The Fibonacci numbers, commonly denoted F(n) form a sequence, called the Fibonacci sequence, such that each number is the sum of the two preceding ones, starting from 0 and 1. That is,\n",
    "\n",
    "F(0) = 0, F(1) = 1  \n",
    "F(n) = F(n - 1) + F(n - 2), for n > 1.  \n",
    "Given n, calculate F(n).  \n",
    "\n",
    "Input: n = 2  \n",
    "Output: 1  \n",
    "Explanation: F(2) = F(1) + F(0) = 1 + 0 = 1.  "
   ]
  },
  {
   "cell_type": "code",
   "execution_count": null,
   "metadata": {},
   "outputs": [],
   "source": [
    "# Initial Solution (optimal): dynamic programming approach starting from index 0.\n",
    "# Storing only 2 prev term values, using them to compute next term\n",
    "\n",
    "# Note: for other prev solutions, see Dynamic Programming Notes file\n",
    "class Solution(object):\n",
    "    def fib(self, n):\n",
    "        if n < 2:\n",
    "            return n\n",
    "        prevPrevTerm, prevTerm = 0, 1\n",
    "\n",
    "        for i in range(2, n + 1):\n",
    "            temp = prevPrevTerm + prevTerm # 0 + 1 = 1\n",
    "            prevPrevTerm = prevTerm\n",
    "            prevTerm = temp\n",
    "        return prevTerm\n",
    "\n",
    "\n",
    "        \"\"\"\n",
    "        :type n: int\n",
    "        :rtype: int\n",
    "        \"\"\""
   ]
  }
 ],
 "metadata": {
  "kernelspec": {
   "display_name": "Python 3",
   "language": "python",
   "name": "python3"
  },
  "language_info": {
   "codemirror_mode": {
    "name": "ipython",
    "version": 3
   },
   "file_extension": ".py",
   "mimetype": "text/x-python",
   "name": "python",
   "nbconvert_exporter": "python",
   "pygments_lexer": "ipython3",
   "version": "3.9.1"
  },
  "orig_nbformat": 4
 },
 "nbformat": 4,
 "nbformat_minor": 2
}
