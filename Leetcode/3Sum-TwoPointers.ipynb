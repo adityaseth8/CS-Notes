{
 "cells": [
  {
   "attachments": {},
   "cell_type": "markdown",
   "metadata": {},
   "source": [
    "# 3 Sum\n",
    "### LC Medium\n",
    "\n",
    "Given an integer array nums, return all the triplets [nums[i], nums[j], nums[k]] such that i != j, i != k, and j != k, and nums[i] + nums[j] + nums[k] == 0.\n",
    "Notice that the solution set must not contain duplicate triplets.\n",
    "\n",
    "Example:\n",
    "Input: nums = [-1,0,1,2,-1,-4]\n",
    "Output: [[-1,-1,2],[-1,0,1]]\n"
   ]
  },
  {
   "attachments": {},
   "cell_type": "markdown",
   "metadata": {},
   "source": [
    "**Initial Solution:**\n",
    "\n",
    "Runtime: 995 ms (51.19 percentile)  \n",
    "Memory: 16.7 mb (56.76 percentile)"
   ]
  },
  {
   "cell_type": "code",
   "execution_count": null,
   "metadata": {},
   "outputs": [],
   "source": [
    "class Solution(object):\n",
    "    def threeSum(self, nums):\n",
    "        sortedNums = sorted(nums)\n",
    "        # i = 0\n",
    "        # j = len(sortedNums) - 1\n",
    "        ans = []\n",
    "        # take first element as fixed, shorten array, rest is a 2sum problem\n",
    "        # keep incrementing \n",
    "        \n",
    "        for x in range(0, (len(sortedNums) - 2)): # 2 b/c last iteration ensured 3 element arr\n",
    "            # skip duplicate values of i\n",
    "            if ( x > 0 and sortedNums[x] == sortedNums[x-1]):\n",
    "                continue\n",
    "            i = x + 1\n",
    "            j = len(sortedNums) - 1\n",
    "            while (i < j):\n",
    "                total = sortedNums[x] + sortedNums[i] + sortedNums[j]\n",
    "                if (total == 0):\n",
    "                    ans.append([sortedNums[x], sortedNums[i], sortedNums[j]])\n",
    "                    while(i<j and sortedNums[i] == sortedNums[i+1]): # +/- i,j to get rid of duplicates\n",
    "                        i+=1\n",
    "                    while(sortedNums[j] == sortedNums[j-1] and i<j): # +/- i,j to get rid of duplicates\n",
    "                        j-=1\n",
    "                    i += 1\n",
    "                    j -= 1\n",
    "                elif (total < 0):\n",
    "                    i += 1\n",
    "                else:\n",
    "                    j -= 1\n",
    "        return ans\n",
    "        \n",
    "        \"\"\"\n",
    "        :type nums: List[int]\n",
    "        :rtype: List[List[int]]\n",
    "        \"\"\""
   ]
  },
  {
   "attachments": {},
   "cell_type": "markdown",
   "metadata": {},
   "source": [
    "**Neetcode Solution**\n"
   ]
  },
  {
   "cell_type": "code",
   "execution_count": null,
   "metadata": {},
   "outputs": [],
   "source": [
    "class Solution:\n",
    "    def threeSum(self, nums: List[int]) -> List[List[int]]:\n",
    "        res = []\n",
    "        nums.sort()\n",
    "\n",
    "        for i, a in enumerate(nums):    # i is index, a is value of corresponding element\n",
    "            # Skip positive integers\n",
    "            if a > 0:\n",
    "                break  # terminate for loop, because then impossible to find 3 numbers summing to 0\n",
    "\n",
    "            if i > 0 and a == nums[i - 1]:  # skip duplicates\n",
    "                continue\n",
    "\n",
    "            l, r = i + 1, len(nums) - 1\n",
    "            while l < r:\n",
    "                threeSum = a + nums[l] + nums[r]\n",
    "                if threeSum > 0:\n",
    "                    r -= 1\n",
    "                elif threeSum < 0:\n",
    "                    l += 1\n",
    "                else:\n",
    "                    res.append([a, nums[l], nums[r]])\n",
    "                    l += 1\n",
    "                    r -= 1\n",
    "                    while nums[l] == nums[l - 1] and l < r: # skip left ptr duplicates (right ptr auto taken care of above)\n",
    "                        l += 1\n",
    "                        \n",
    "        return res\n"
   ]
  }
 ],
 "metadata": {
  "language_info": {
   "name": "python"
  },
  "orig_nbformat": 4
 },
 "nbformat": 4,
 "nbformat_minor": 2
}
