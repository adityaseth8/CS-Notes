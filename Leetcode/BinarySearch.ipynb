{
 "cells": [
  {
   "attachments": {},
   "cell_type": "markdown",
   "metadata": {},
   "source": [
    "# Binary Search\n",
    "### LC Easy\n",
    "\n",
    "### <span style=\"color:red\">Common Interview Question: Variation of Binary Search</span>\n",
    "\n",
    "Given an array of integers nums which is sorted in ascending order, and an integer target, write a function to search target in nums. If target exists, then return its index. Otherwise, return -1.\n",
    "\n",
    "You must write an algorithm with O(log n) runtime complexity.\n",
    "\n",
    "Example 1:   \n",
    "Input: nums = [-1,0,3,5,9,12], target = 9  \n",
    "Output: 4  \n",
    "Explanation: 9 exists in nums and its index is 4  \n",
    "\n",
    "Initial Solution:  \n",
    "Time Complexity:  <b>O(logn)</b> because every iteration the while loop runs, the input array search size decreases by half. For ex, input array of size 16, using binary search, search size decreases as: 16, 8, 4, 2, 1.   \n",
    "use log<sub>2</sub>n = 16 , to find number of iterations loop will run"
   ]
  },
  {
   "cell_type": "code",
   "execution_count": 1,
   "metadata": {},
   "outputs": [],
   "source": [
    "class Solution(object):\n",
    "    def search(self, nums, target):\n",
    "        l, r = 0, len(nums)-1\n",
    "        while (l <= r): # loop until left and right pointers cross\n",
    "            mid = (l+r)/2\n",
    "            if (target == nums[mid]):\n",
    "                return mid\n",
    "            elif (target < nums[mid]): # -2 < 0 1 '2' 3\n",
    "                r = mid - 1\n",
    "            else:\n",
    "                l = mid + 1\n",
    "        return -1\n",
    "        \"\"\"\n",
    "        :type nums: List[int]\n",
    "        :type target: int\n",
    "        :rtype: int\n",
    "        \"\"\""
   ]
  },
  {
   "cell_type": "code",
   "execution_count": null,
   "metadata": {},
   "outputs": [],
   "source": [
    "class Solution(object):\n",
    "    def search(self, nums, target):\n",
    "        # 5 6 7 8\n",
    "        # 0 1 2 3\n",
    "\n",
    "        i,j = 0, len(nums)-1\n",
    "\n",
    "        while (i<=j):\n",
    "            # mid = (i+j)/2\n",
    "            mid = (j-i)/2 + i        # fix for if i,j are large numbers (close to 32 bit max int) and adding them causes overflow\n",
    "            if (nums[mid] == target):\n",
    "                return mid\n",
    "            elif (nums[mid] < target):\n",
    "                i = mid + 1\n",
    "            else:\n",
    "                j = mid -1\n",
    "        return -1\n",
    "        \n",
    "# 3+4/2 = 3.5\n",
    "# (4-3)/2 = 0.5 + i "
   ]
  }
 ],
 "metadata": {
  "kernelspec": {
   "display_name": "Python 3",
   "language": "python",
   "name": "python3"
  },
  "language_info": {
   "codemirror_mode": {
    "name": "ipython",
    "version": 3
   },
   "file_extension": ".py",
   "mimetype": "text/x-python",
   "name": "python",
   "nbconvert_exporter": "python",
   "pygments_lexer": "ipython3",
   "version": "3.9.1"
  },
  "orig_nbformat": 4
 },
 "nbformat": 4,
 "nbformat_minor": 2
}
