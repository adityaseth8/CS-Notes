{
 "cells": [
  {
   "attachments": {},
   "cell_type": "markdown",
   "metadata": {},
   "source": [
    "# Missing Number\n",
    "\n",
    "### LC Easy\n",
    "\n",
    "Given an array nums containing n distinct numbers in the range [0, n], return the only number in the range that is missing from the array.  \n",
    "\n",
    "Input: nums = [3,0,1]  \n",
    "Output: 2  \n",
    "Explanation: n = 3 since there are 3 numbers, so all numbers are in the range [0,3]. 2 is the missing number in the range since it does not appear in nums.  "
   ]
  },
  {
   "cell_type": "code",
   "execution_count": 1,
   "metadata": {},
   "outputs": [],
   "source": [
    "# Initial Solution: Store copy of sorted nums array. Iterate through sNums and keep comparing \n",
    "# with its index value. If they don't match, you've found the missing number\n",
    "\n",
    "# Runtime: O(nlogn + n) = O(nlogn), sorting nums array\n",
    "# Space: O(n), storing copy of nums array\n",
    "\n",
    "class Solution(object):\n",
    "    def missingNumber(self, nums):\n",
    "        sNums = sorted(nums)\n",
    "        for i, num in enumerate(sNums):\n",
    "            if i != num:\n",
    "                break\n",
    "            i += 1\n",
    "        return i\n",
    "        \n",
    "        \"\"\"\n",
    "        :type nums: List[int]\n",
    "        :rtype: int\n",
    "        \"\"\""
   ]
  },
  {
   "cell_type": "code",
   "execution_count": 1,
   "metadata": {},
   "outputs": [],
   "source": [
    "# Ryan Initial Solution:\n",
    "\n",
    "class Solution:\n",
    "    def missingNumber(self, nums: List[int]) -> int:\n",
    "        sNums = sorted(nums)\n",
    "\n",
    "        for i in range(len(sNums)):\n",
    "            if i != sNums[i]:\n",
    "                return i\n",
    "\n",
    "        return i+1"
   ]
  },
  {
   "cell_type": "code",
   "execution_count": 2,
   "metadata": {},
   "outputs": [],
   "source": [
    "# Ryan Revised Solution (Sum):\n",
    "\n",
    "class Solution:\n",
    "    def missingNumber(self, nums: List[int]) -> int:\n",
    "        total = 0\n",
    "        \n",
    "        for i in range(len(nums) + 1):\n",
    "            total += i\n",
    "            \n",
    "        return total - sum(nums)"
   ]
  },
  {
   "cell_type": "code",
   "execution_count": 3,
   "metadata": {},
   "outputs": [
    {
     "data": {
      "text/plain": [
       "2"
      ]
     },
     "execution_count": 3,
     "metadata": {},
     "output_type": "execute_result"
    }
   ],
   "source": [
    "# chatGPT Solution: calculate expected sum using summation formula (see Fig. 1 below). \n",
    "# Compute actual sum of nums array. Missing number is the sum of the 2 sums \n",
    "\n",
    "# nums = [3, 0, 1] => Sum = 4       \n",
    "# range= [0, 1, 2, 3] => Sum = 6 \n",
    "# missing number = 6 - 4 = 2\n",
    "\n",
    "# Runtime: O(n), iterating through array and summing every element\n",
    "# Space: O(1), no extra memory being used other than storing sum values\n",
    "\n",
    "class Solution(object):\n",
    "    def missingNumber(self, nums):\n",
    "        n = len(nums)\n",
    "        # fancy math: expected_sum = (n * (n+1)) // 2       # method a\n",
    "        expected_sum = sum(range(len(nums)+1))              # method b (yedi)\n",
    "        actual_sum = sum(nums)\n",
    "        return expected_sum - actual_sum\n",
    "    \n",
    "sol = Solution()\n",
    "sol.missingNumber([3,0,1])\n",
    "\n",
    "# range(3) --> [0,1,2]\n",
    "# actual supposed to be --> [0,1,2,3]\n",
    "# thus: range(3+1) --> [0,1,2,3]\n"
   ]
  },
  {
   "cell_type": "code",
   "execution_count": null,
   "metadata": {},
   "outputs": [],
   "source": [
    "# xor solution (Neetcode intuition)\n",
    "\n",
    "# Runtime: O(n), iterating through array and doing exclusive or's\n",
    "# Space: O(1)\n",
    "class Solution(object):\n",
    "    def missingNumber(self, nums):\n",
    "        n = len(nums)\n",
    "        missingNumber = n\n",
    "        for i in range(n):\n",
    "            missingNumber ^= i ^ nums[i]\n",
    "        return missingNumber\n",
    "\n",
    "'''\n",
    "0 1 2 3\n",
    "0 1 3    (nums)\n",
    "\n",
    "3 ^ 0 ^ 0 = 3\n",
    "3 ^ 1 ^ 1 = 3\n",
    "3 ^ 2 ^ 3 = 2\n",
    "'''"
   ]
  },
  {
   "cell_type": "code",
   "execution_count": 5,
   "metadata": {},
   "outputs": [
    {
     "data": {
      "text/plain": [
       "2"
      ]
     },
     "execution_count": 5,
     "metadata": {},
     "output_type": "execute_result"
    }
   ],
   "source": [
    "# Neetcode Solution\n",
    "'''\n",
    "# iterate through input array (nums), and full array (index) in 1 for loop. Able to do this\n",
    "because the for loop condition treats i as an index of nums array (0 to len(nums)-1).\n",
    "num[i] gives you the input array elements, and i by itself gives you the full array without its max value\n",
    "To make sure max value (len(nums)) is included, we pre-set the missingNumber variable (what we returning)\n",
    "with the max value. \n",
    "\n",
    "Within the for loop, we are using the sum/difference pattern. Taking the difference of element in \n",
    "input and full array, adding that to missingNumber variable, then storing in missingNumber variable.\n",
    "\n",
    "'''\n",
    "\n",
    "class Solution(object):\n",
    "    def missingNumber(self, nums):\n",
    "        res = len(nums)\n",
    "\n",
    "        for i in range(len(nums)):\n",
    "            res += (i - nums[i])\n",
    "        return res\n",
    "    \n",
    "sol = Solution()\n",
    "sol.missingNumber([3,0,1])\n",
    "\n",
    "# res = 3 = len(nums)\n",
    "# nums = [3, 0, 1] \n",
    "# i =    [0, 1, 2]\n",
    "\n",
    "# 0 1 2 3  (example showing sorted for easier understanding)\n",
    "# 0 1 3\n",
    "\n",
    "# 1-1\n",
    "# 0-0\n",
    "# 3-2=1\n",
    "# maxVal (3 == len(nums)) - reminder == 3-1=2"
   ]
  }
 ],
 "metadata": {
  "kernelspec": {
   "display_name": "Python 3",
   "language": "python",
   "name": "python3"
  },
  "language_info": {
   "codemirror_mode": {
    "name": "ipython",
    "version": 3
   },
   "file_extension": ".py",
   "mimetype": "text/x-python",
   "name": "python",
   "nbconvert_exporter": "python",
   "pygments_lexer": "ipython3",
   "version": "3.9.1"
  },
  "orig_nbformat": 4
 },
 "nbformat": 4,
 "nbformat_minor": 2
}
