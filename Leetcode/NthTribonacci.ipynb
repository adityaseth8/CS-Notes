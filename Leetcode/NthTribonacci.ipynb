{
 "cells": [
  {
   "attachments": {},
   "cell_type": "markdown",
   "metadata": {},
   "source": [
    "# N-th Tribonacci Number\n",
    "\n",
    "### LC Easy\n",
    "\n",
    "The Tribonacci sequence Tn is defined as follows:   \n",
    "\n",
    "T0 = 0, T1 = 1, T2 = 1, and Tn+3 = Tn + Tn+1 + Tn+2 for n >= 0.  \n",
    "\n",
    "Given n, return the value of Tn.  \n",
    "\n",
    "Input: n = 4  \n",
    "Output: 4  \n",
    "Explanation:  \n",
    "T_3 = 0 + 1 + 1 = 2  \n",
    "T_4 = 1 + 1 + 2 = 4  "
   ]
  },
  {
   "cell_type": "code",
   "execution_count": null,
   "metadata": {},
   "outputs": [],
   "source": [
    "# Initial Solution\n",
    "\n",
    "class Solution(object):\n",
    "    def tribonacci(self, n):\n",
    "        if n <= 1:\n",
    "            return n\n",
    "        if n == 2:\n",
    "            return 1\n",
    "\n",
    "        # prevPrevPrev to curr\n",
    "        term1, term2, term3 = 0, 1, 1\n",
    "\n",
    "        for i in range(3, n+1):\n",
    "            temp = term1 + term2 + term3\n",
    "            term1 = term2\n",
    "            term2 = term3\n",
    "            term3 = temp\n",
    "        \n",
    "        return term3\n",
    "        \"\"\"\n",
    "        :type n: int\n",
    "        :rtype: int\n",
    "        \"\"\""
   ]
  }
 ],
 "metadata": {
  "kernelspec": {
   "display_name": "Python 3",
   "language": "python",
   "name": "python3"
  },
  "language_info": {
   "name": "python",
   "version": "3.9.1"
  },
  "orig_nbformat": 4
 },
 "nbformat": 4,
 "nbformat_minor": 2
}
