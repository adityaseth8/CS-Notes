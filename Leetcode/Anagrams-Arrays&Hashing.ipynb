{
 "cells": [
  {
   "attachments": {},
   "cell_type": "markdown",
   "metadata": {},
   "source": [
    "# Valid Anagram\n",
    "### LC Easy\n",
    "\n",
    "Given two strings s and t, return true if t is an anagram of s, and false otherwise.\n",
    "\n",
    "An Anagram is a word or phrase formed by rearranging the letters of a different word or phrase, typically using all the original letters exactly once.\n",
    "\n",
    "Example 1:\n",
    "\n",
    "Input: s = \"anagram\", t = \"nagaram\"  \n",
    "Output: true\n",
    "\n",
    "Initial Solution:  \n",
    "Runtime 54 ms (28th percentile)  \n",
    "Memory 14.6 MB (46th percentile)  "
   ]
  },
  {
   "cell_type": "code",
   "execution_count": 1,
   "metadata": {},
   "outputs": [],
   "source": [
    "class Solution(object):\n",
    "    def isAnagram(self, s, t):\n",
    "        # Initial idea, alphabetically sort both s and t, \n",
    "        # then compare string\n",
    "        s_sorted = sorted(s)\n",
    "        t_sorted = sorted(t)\n",
    "        if (s_sorted == t_sorted):\n",
    "            return True\n",
    "        return False\n",
    "        \n",
    "        \"\"\"\n",
    "        :type s: str\n",
    "        :type t: str\n",
    "        :rtype: bool\n",
    "        \"\"\""
   ]
  },
  {
   "attachments": {},
   "cell_type": "markdown",
   "metadata": {},
   "source": [
    "**Online Solution:**\n",
    "First make sure length of both strings is same\n",
    "For every letter in the alphabet, check the character occurance in both s and t strings (.count()) - if diff value, not an anagram"
   ]
  },
  {
   "cell_type": "code",
   "execution_count": 7,
   "metadata": {},
   "outputs": [
    {
     "name": "stdout",
     "output_type": "stream",
     "text": [
      "True\n",
      "False\n",
      "True\n"
     ]
    }
   ],
   "source": [
    "class Solution(object):\n",
    "    def isAnagram(self, s, t):\n",
    "        flag = True\n",
    "        if len(s) != len(t): \n",
    "            flag = False\n",
    "        else:\n",
    "            letters = \"abcdefghijklmnopqrstuvwxyz\"\n",
    "            for letter in letters:\n",
    "                if s.count(letter) != t.count(letter):\n",
    "                    flag = False\n",
    "                    break\n",
    "        return flag\n",
    "\n",
    "# Interestingly, the entire LC Anagrams problem makes the assumption\n",
    "# that upper and lower case versions of the same char is not equal, as shown below:\n",
    "sol = Solution() # instance of class made\n",
    "print(sol.isAnagram(\"rad\", \"ard\"))\n",
    "print(sol.isAnagram(\"Tom Brady\", \"Rad Motyb\"))\n",
    "print(sol.isAnagram(\"Tom Brady\", \"rad moTyB\"))"
   ]
  },
  {
   "attachments": {},
   "cell_type": "markdown",
   "metadata": {},
   "source": [
    "**Ryan's Solution:**  \n",
    "Using hash table. Key is the character, value is the number of occurances for the character in string s (using .get()). If no occurance, then default value of 0 set. + 1 to increment character occurance. Once hash table is built, loop through the t string, and decrement occurance of each matched character with the s string. If an occurance becomes negative or if a character in the t string is not in the s string, t and s strings are not anagrams.\n",
    "\n",
    "More efficient than Neetcode's solution (further below), because uses only 1 hashmap, and has possibility of returning False much earlier (decreasing number of computations/comparisons possibly needed)\n"
   ]
  },
  {
   "cell_type": "code",
   "execution_count": null,
   "metadata": {},
   "outputs": [],
   "source": [
    "class Solution:\n",
    "    def isAnagram(self, s: str, t: str) -> bool:\n",
    "        if len(s) != len(t):\n",
    "            return False\n",
    "\n",
    "        # Overall Time: O(s + t + s) = O(3s) = O(s) <- s = t \n",
    "        # Overall Space: O(s + 1 + 1) = O(s)\n",
    "\n",
    "        chars = {}\n",
    "\n",
    "        # Stores num of chars in s in hash table\n",
    "        # Time: O(s)\n",
    "        # Space: O(s)\n",
    "        for i, c in enumerate(s):\n",
    "            chars[c] = chars.get(c, 0) + 1\n",
    "            \n",
    "        # Go through chars in t and compare to num of chars in s\n",
    "        # Time: O(t)\n",
    "        # Space: O(1)\n",
    "        for i, c in enumerate(t):\n",
    "            if c in chars:\n",
    "                chars[c] -= 1\n",
    "                if chars[c] < 0: # more of c in t than s\n",
    "                    return False\n",
    "            else:\n",
    "                return False\n",
    "\n",
    "        return True"
   ]
  },
  {
   "attachments": {},
   "cell_type": "markdown",
   "metadata": {},
   "source": [
    "**Neetcode Solution:**\n",
    "Creating two hashmaps, each one has character as key, value as number of occurances.   \n",
    ".get(s[i], 0) --> retrieve value at s[i] (# of occurrances of char), if null, then default val retrieved is 0.  \n",
    "If both hashmaps are the same, then it is anagram."
   ]
  },
  {
   "cell_type": "code",
   "execution_count": 4,
   "metadata": {},
   "outputs": [
    {
     "name": "stdout",
     "output_type": "stream",
     "text": [
      "True\n",
      "False\n",
      "True\n"
     ]
    }
   ],
   "source": [
    "class Solution:\n",
    "    def isAnagram(self, s: str, t: str) -> bool:\n",
    "        if len(s) != len(t):\n",
    "            return False\n",
    "\n",
    "        countS, countT = {}, {}\n",
    "\n",
    "        for i in range(len(s)):\n",
    "            countS[s[i]] = 1 + countS.get(s[i], 0)\n",
    "            countT[t[i]] = 1 + countT.get(t[i], 0)\n",
    "        return countS == countT\n",
    "\n",
    "sol = Solution() # instance of class made\n",
    "print(sol.isAnagram(\"rad\", \"ard\"))\n",
    "print(sol.isAnagram(\"Tom Brady\", \"Rad Motyb\")) \n",
    "print(sol.isAnagram(\"Tom Brady\", \"rad moTyB\"))"
   ]
  }
 ],
 "metadata": {
  "kernelspec": {
   "display_name": "Python 3",
   "language": "python",
   "name": "python3"
  },
  "language_info": {
   "codemirror_mode": {
    "name": "ipython",
    "version": 3
   },
   "file_extension": ".py",
   "mimetype": "text/x-python",
   "name": "python",
   "nbconvert_exporter": "python",
   "pygments_lexer": "ipython3",
   "version": "3.9.1"
  },
  "orig_nbformat": 4
 },
 "nbformat": 4,
 "nbformat_minor": 2
}
