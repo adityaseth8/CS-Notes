{
 "cells": [
  {
   "attachments": {},
   "cell_type": "markdown",
   "metadata": {},
   "source": [
    "# Group Anagrams\n",
    "\n",
    "### LC Medium\n",
    "\n",
    "Given an array of strings strs, group the anagrams together. You can return the answer in any order.\n",
    "\n",
    "An Anagram is a word or phrase formed by rearranging the letters of a different word or phrase, typically using all the original letters exactly once.\n",
    "\n",
    "\n",
    "Input: strs = [\"eat\",\"tea\",\"tan\",\"ate\",\"nat\",\"bat\"]  \n",
    "Output: [[\"bat\"],[\"nat\",\"tan\"],[\"ate\",\"eat\",\"tea\"]]  "
   ]
  },
  {
   "cell_type": "code",
   "execution_count": 1,
   "metadata": {},
   "outputs": [],
   "source": [
    "# Aditya Initial Solution \n",
    "\n",
    "# Intuition: Hashmap with key being sorted version of word,\n",
    "#            value is list of all input words that are anagrams \n",
    "# O (m * nlogn )\n",
    "\n",
    "class Solution(object):\n",
    "    def groupAnagrams(self, strs):\n",
    "        res = []\n",
    "        hmap = {}    # key = sorted word, val is list of all original words\n",
    "        for i, word in enumerate(strs):\n",
    "            sWord = \"\".join(sorted(word))  # read abt this later\n",
    "            if sWord not in hmap: # append new key\n",
    "                hmap[sWord] = [word]\n",
    "            else: \n",
    "                hmap[sWord].append(word) # key exists\n",
    "        # append all lists from hashmap values into res\n",
    "        for key in hmap.keys():\n",
    "            res.append(hmap[key])\n",
    "        # ALT SYNTAX\n",
    "        # for val in hmap.values():\n",
    "        #     res.append(val)\n",
    "        return res\n",
    "\n",
    "\n",
    "### Notes:\n",
    "# ans = sorted(\"cat\")\n",
    "# ans will get you:\n",
    "# ans = [\"a\", \"c\", \"t\"]\n",
    "#  --> \"\".join(ans)\n",
    "# \"act\""
   ]
  },
  {
   "cell_type": "code",
   "execution_count": null,
   "metadata": {},
   "outputs": [],
   "source": [
    "# Ryan Initial Solution\n",
    "\n",
    "# Intuition: \n",
    "\n",
    "class Solution:\n",
    "    def groupAnagrams(self, strs: List[str]) -> List[List[str]]:\n",
    "        anagrams = []\n",
    "        visited = [False for i in range(len(strs))]\n",
    "\n",
    "        sortedStrs = [sorted(i) for i in strs]\n",
    "\n",
    "        for i in range(len(sortedStrs)):\n",
    "            if visited[i]:\n",
    "                continue\n",
    "            ans = [strs[i]]\n",
    "            visited[i] = True\n",
    "            for j in range(i+1, len(sortedStrs)):\n",
    "                if sortedStrs[i] == sortedStrs[j]:\n",
    "                    ans.append(strs[j])\n",
    "                    visited[j] = True\n",
    "            anagrams.append(ans)\n",
    "\n",
    "        return anagrams"
   ]
  },
  {
   "cell_type": "code",
   "execution_count": null,
   "metadata": {},
   "outputs": [],
   "source": [
    "# Neetcode Genius Solution\n",
    "# O(m * n * 26),  where m is length of input string, n is average length of word.\n",
    "class Solution:\n",
    "    def groupAnagrams(self, strs: List[str]) -> List[List[str]]:\n",
    "        ans = collections.defaultdict(list)\n",
    "        for s in strs:\n",
    "            count = [0] * 26\n",
    "            for c in s:\n",
    "                count[ord(c) - ord(\"a\")] += 1\n",
    "            ans[tuple(count)].append(s)     # res[(0,0,0,0)] =  [\"eat\"]\n",
    "        return ans.values()"
   ]
  }
 ],
 "metadata": {
  "kernelspec": {
   "display_name": "Python 3",
   "language": "python",
   "name": "python3"
  },
  "language_info": {
   "codemirror_mode": {
    "name": "ipython",
    "version": 3
   },
   "file_extension": ".py",
   "mimetype": "text/x-python",
   "name": "python",
   "nbconvert_exporter": "python",
   "pygments_lexer": "ipython3",
   "version": "3.9.1"
  },
  "orig_nbformat": 4
 },
 "nbformat": 4,
 "nbformat_minor": 2
}
