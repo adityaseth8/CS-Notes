{
 "cells": [
  {
   "attachments": {},
   "cell_type": "markdown",
   "metadata": {},
   "source": [
    "# Valid Parenthesis\n",
    "\n",
    "### LC Easy\n",
    "\n",
    "### <span style=\"color:red\">Common Interview Question </span>\n",
    "\n",
    "Given a string s containing just the characters '(', ')', '{', '}', '[' and ']', determine if the input string is valid.\n",
    "\n",
    "An input string is valid if:\n",
    "\n",
    "Open brackets must be closed by the same type of brackets.\n",
    "Open brackets must be closed in the correct order.\n",
    "Every close bracket has a corresponding open bracket of the same type.\n",
    "\n",
    "Examples of Valid Strings:\n",
    "  (){}[] , ({})  \n",
    "Examples of Invalid Strings:\n",
    "  ({)}, ], )(\n",
    "\n",
    "**Refined Initial Solution**\n",
    "Iterate through string. Append opening characters to a stack. If you come across a closing character, compare it with the \"first out/top\" element in the stack (LIFO) and make sure they are the same type of character.\n",
    "\n",
    "Time Complexity: O(n), iterating through the input array\n",
    "Memory: O(n), because using stack, and stack can grow to a memory the size of the input array"
   ]
  },
  {
   "cell_type": "code",
   "execution_count": 1,
   "metadata": {},
   "outputs": [
    {
     "data": {
      "text/plain": [
       "True"
      ]
     },
     "execution_count": 1,
     "metadata": {},
     "output_type": "execute_result"
    }
   ],
   "source": [
    "class Solution(object):\n",
    "    def isValid(self, s):\n",
    "        pairs = {\n",
    "            ')':'(',\n",
    "            '}':'{',\n",
    "            ']':'['\n",
    "        }\n",
    "        opening = {'(','{','['}\n",
    "        stack = []\n",
    "        \n",
    "        for ch in s:\n",
    "            if ch in opening:\n",
    "                stack.append(ch)\n",
    "            else:  # closing\n",
    "                # NOTE: running stack.pop() on empty stack returns IndexError\n",
    "                # Avoid by returning False if stack length is 0. \n",
    "                # this works because if length is 0 (true), rest of statement (i.e pop) doesn't get computed \n",
    "                if len(stack) == 0 or pairs[ch] != stack.pop(): # can't use and for cases like '()'\n",
    "                    return False\n",
    "                \n",
    "                # compare ch with next element to be popped\n",
    "        if (len(stack) == 0):\n",
    "            return True\n",
    "        \n",
    "        \"\"\"\n",
    "        :type s: str\n",
    "        :rtype: bool\n",
    "        \"\"\"\n",
    "sol = Solution()\n",
    "sol.isValid(\"()\")"
   ]
  },
  {
   "attachments": {},
   "cell_type": "markdown",
   "metadata": {},
   "source": [
    "Ryan's Solution:\n"
   ]
  },
  {
   "cell_type": "code",
   "execution_count": null,
   "metadata": {},
   "outputs": [],
   "source": [
    "class Solution:\n",
    "    def isValid(self, s: str) -> bool:\n",
    "        stack = []\n",
    "        open_bracket = False\n",
    "        lastChar = None\n",
    "\n",
    "        for i, c in enumerate(s):\n",
    "            if c == \"(\" or c == \"{\" or c == \"[\":\n",
    "                stack.append(c)\n",
    "                lastChar = c\n",
    "                open_bracket = True\n",
    "            elif (c == \")\" and lastChar == \"(\") or (c == \"}\" and lastChar == \"{\") or (c == \"]\" and lastChar == \"[\") and open_bracket:\n",
    "                stack.pop()\n",
    "                lastChar = stack[len(stack) - 1] if len(stack) > 0 else \"\"\n",
    "            else:\n",
    "                return False\n",
    "\n",
    "        return len(stack) == 0 and open_bracket"
   ]
  },
  {
   "attachments": {},
   "cell_type": "markdown",
   "metadata": {},
   "source": [
    "**Neetcode Solution**\n",
    "\n",
    "stack[-1] : end of arrray, aka top element in stack"
   ]
  },
  {
   "cell_type": "code",
   "execution_count": null,
   "metadata": {},
   "outputs": [],
   "source": [
    "class Solution(object):\n",
    "    def isValid(self, s):\n",
    "        stack = []\n",
    "        closeToOpen = {\n",
    "            ')':'(',\n",
    "            '}':'{',\n",
    "            ']':'['\n",
    "        }\n",
    "\n",
    "        for c in s:\n",
    "            if c in closeToOpen:    # if c is closing character\n",
    "                if stack and stack[-1] == closeToOpen[c]: # if stack is not empty and top element matches bracket type\n",
    "                    stack.pop()\n",
    "                else:\n",
    "                    return False\n",
    "            else: # opening bracket, push to stack\n",
    "                stack.append(c)\n",
    "        return True if not stack else False # return False if stack is not empty\n",
    "    \n",
    "\n",
    "    # if stack means not of stack not empty"
   ]
  },
  {
   "cell_type": "code",
   "execution_count": 2,
   "metadata": {},
   "outputs": [],
   "source": [
    "# Initial solution that almost worked :(\n",
    "\n",
    "class Solution(object):\n",
    "    def isValid(self, s):\n",
    "        sqL, sqR, curlyL, curlyR, parenthL, parenthR = 0,0,0,0,0,0\n",
    "        for i, ch in enumerate(s):\n",
    "            if ch == '[':\n",
    "                sqL += 1\n",
    "            elif ch == '{':\n",
    "                curlyL += 1\n",
    "            elif ch == '(':\n",
    "                parenthL += 1\n",
    "            else:\n",
    "                if ch == ']':\n",
    "                    sqR += 1\n",
    "                    if (sqR > 0 and sqL > 0 and nums[i-1] != '{' and nums[i-1] != '('):\n",
    "                        sqR -= 1\n",
    "                        sqL -=1\n",
    "                elif ch == ')':\n",
    "                    parenthR += 1\n",
    "                    if (parenthR > 0 and parenthL > 0):\n",
    "                        parenthR -= 1\n",
    "                        parenthL -=1\n",
    "                else:\n",
    "                    curlyR += 1\n",
    "                    if (curlyR > 0 and curlyL > 0):\n",
    "                        curlyR -= 1\n",
    "                        curlyL -=1\n",
    "        if (sqL == sqR == curlyL == curlyR == parenthL == parenthR == 0):\n",
    "            return True\n",
    "\n",
    "        # stack = []\n",
    "        # for ch in s:\n",
    "        #     stack.append(ch)\n",
    "        \n",
    "        #     ch = stack.pop()\n",
    "# ] = 1\n",
    "# ( = 1\n",
    "# [ = 1 --> -= 1 ] and -=1 [\n",
    "\n",
    "# (=1\n",
    "\n",
    "\n",
    "        # ) [(]\n",
    "        # s=\"([])\", \")[(]\" (keeping counter won't work)\n",
    "        # \n",
    "        # iterate through string, if ( present, is ) present?\n",
    "\n",
    "\n",
    "                \n",
    "        \n",
    "        \"\"\"\n",
    "        :type s: str\n",
    "        :rtype: bool\n",
    "        \"\"\""
   ]
  }
 ],
 "metadata": {
  "kernelspec": {
   "display_name": "Python 3",
   "language": "python",
   "name": "python3"
  },
  "language_info": {
   "codemirror_mode": {
    "name": "ipython",
    "version": 3
   },
   "file_extension": ".py",
   "mimetype": "text/x-python",
   "name": "python",
   "nbconvert_exporter": "python",
   "pygments_lexer": "ipython3",
   "version": "3.9.1"
  },
  "orig_nbformat": 4
 },
 "nbformat": 4,
 "nbformat_minor": 2
}
