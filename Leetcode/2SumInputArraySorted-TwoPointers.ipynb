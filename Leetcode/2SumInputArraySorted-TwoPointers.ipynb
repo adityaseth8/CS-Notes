{
 "cells": [
  {
   "attachments": {},
   "cell_type": "markdown",
   "metadata": {},
   "source": [
    "# Two Sum II - Input Array Is Sorted\n",
    "### LC Medium\n",
    "\n",
    "Given a 1-indexed array of integers numbers that is already sorted in non-decreasing order, find two numbers such that they add up to a specific target number. Let these two numbers be numbers[index1] and numbers[index2] where 1 <= index1 < index2 < numbers.length.\n",
    "\n",
    "Return the indices of the two numbers, index1 and index2, added by one as an integer array [index1, index2] of length 2.\n",
    "\n",
    "Example:\n",
    "Input: numbers = [2,7,11,15], target = 9\n",
    "Output: [1,2]"
   ]
  },
  {
   "attachments": {},
   "cell_type": "markdown",
   "metadata": {},
   "source": [
    "Initial Solution:\n",
    "\n",
    "Runtime: 106 ms (41.49 pecentile)\n",
    "Memory: 14.2 mb (71.85 percentile)"
   ]
  },
  {
   "cell_type": "code",
   "execution_count": null,
   "metadata": {},
   "outputs": [],
   "source": [
    "class Solution(object):\n",
    "    def twoSum(self, numbers, target):\n",
    "        i = 0\n",
    "        j = len(numbers) - 1\n",
    "\n",
    "        while (i<j):    # note: changing this to <= reduces runtime to 100ms (77th percentile), altho Neetcode uses just '<'\n",
    "            sum = numbers[i] + numbers[j]\n",
    "            if (sum == target):\n",
    "                return [i+1, j+1] \n",
    "            if (sum > target):\n",
    "                j -= 1\n",
    "                continue\n",
    "            else:\n",
    "                i += 1\n",
    "                continue\n",
    "       \n",
    "        \"\"\"\n",
    "        :type numbers: List[int]\n",
    "        :type target: int\n",
    "        :rtype: List[int]\n",
    "        \"\"\""
   ]
  },
  {
   "attachments": {},
   "cell_type": "markdown",
   "metadata": {},
   "source": [
    "Modified Initial Solution:\n",
    "\n",
    "removed the `continue` statements, not needed :facepalm:"
   ]
  },
  {
   "cell_type": "code",
   "execution_count": null,
   "metadata": {},
   "outputs": [],
   "source": [
    "class Solution(object):\n",
    "    def twoSum(self, numbers, target):\n",
    "        i = 0\n",
    "        j = len(numbers) - 1\n",
    "\n",
    "        while (i<=j):\n",
    "            sum = numbers[i] + numbers[j]   # O(1)\n",
    "            if (sum == target):\n",
    "                return [i+1, j+1]   # O(2)\n",
    "            elif (sum > target):\n",
    "                j -= 1\n",
    "            else:\n",
    "                i += 1\n",
    "\n",
    "    # O(1) space"
   ]
  }
 ],
 "metadata": {
  "language_info": {
   "name": "python"
  },
  "orig_nbformat": 4
 },
 "nbformat": 4,
 "nbformat_minor": 2
}
