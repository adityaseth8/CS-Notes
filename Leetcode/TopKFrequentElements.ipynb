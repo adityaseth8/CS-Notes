{
 "cells": [
  {
   "attachments": {},
   "cell_type": "markdown",
   "metadata": {},
   "source": [
    "# Top K Frequent Elements\n",
    "\n",
    "### LC Easy\n",
    "\n",
    "Given an integer array nums and an integer k, return the k most frequent elements. You may return the answer in any order.  \n",
    "\n",
    "Input: nums = [1,1,1,2,2,3], k = 2  \n",
    "Output: [1,2]  \n",
    "*b/c 1 occurred 3 times, 2 occurred 2 times, etc*"
   ]
  },
  {
   "cell_type": "code",
   "execution_count": null,
   "metadata": {},
   "outputs": [],
   "source": [
    "# Initial Solution\n",
    "\n",
    "class Solution(object):\n",
    "    def topKFrequent(self, nums, k):\n",
    "        # method 2: hash map, key is number \n",
    "\n",
    "        # [1, 1, 1, 2, 2, 3]\n",
    "        # put it in hash map, key is element, val is number of occurances\n",
    "\n",
    "        hmap = {}\n",
    "        res = []\n",
    "        for val in nums:\n",
    "            hmap[val] = hmap.get(val, 0) + 1\n",
    "\n",
    "        # sort hashmap's keys based on corresponding values in descending order\n",
    "        # sorted(hmap, ..) returns a list of sorted keys..\n",
    "        for num in sorted(hmap, key=hmap.get, reverse=True):\n",
    "            # append hashmap into an array (res) until k elements appended\n",
    "            res.append(num)\n",
    "            k -= 1\n",
    "            if k == 0:\n",
    "                break\n",
    "\n",
    "        return res\n",
    "\n",
    "# Note: Hashmaps can't be sorted directly. \n",
    "        \n",
    "        \"\"\"\n",
    "        :type nums: List[int]\n",
    "        :type k: int\n",
    "        :rtype: List[int]\n",
    "        \"\"\""
   ]
  }
 ],
 "metadata": {
  "kernelspec": {
   "display_name": "Python 3",
   "language": "python",
   "name": "python3"
  },
  "language_info": {
   "name": "python",
   "version": "3.9.1"
  },
  "orig_nbformat": 4
 },
 "nbformat": 4,
 "nbformat_minor": 2
}
