{
 "cells": [
  {
   "attachments": {},
   "cell_type": "markdown",
   "metadata": {},
   "source": [
    "# JP Morgan Sample Interview Questions\n",
    "\n",
    "Resources:\n",
    " - https://prepinsta.com/jp-morgan-coding-questions/\n",
    " - https://www.geeksforgeeks.org/tag/jp-morgan/\n",
    " - glassdoor\n",
    " - https://www.reddit.com/r/csMajors/comments/14qr3u9/jp_morgan_oa/\n",
    "\n",
    " "
   ]
  },
  {
   "attachments": {},
   "cell_type": "markdown",
   "metadata": {},
   "source": [
    "Question 1: Given coins of value 1, 3, and 6 and a sum, what is the minimum number of coins needed to reach the sum? (https://www.geeksforgeeks.org/find-minimum-number-of-coins-that-make-a-change/)\n"
   ]
  },
  {
   "cell_type": "code",
   "execution_count": 33,
   "metadata": {},
   "outputs": [
    {
     "name": "stdout",
     "output_type": "stream",
     "text": [
      "1\n",
      "1\n",
      "2\n"
     ]
    }
   ],
   "source": [
    "\n",
    "sum = 11\n",
    "count6, count3, count1 = 0, 0, 0\n",
    "\n",
    "count6 = sum // 6 \n",
    "sum = sum % 6\n",
    "\n",
    "count3 = sum // 3\n",
    "count1 = sum % 3\n",
    "\n",
    "print(count6)\n",
    "print(count3)\n",
    "print(count1)\n"
   ]
  },
  {
   "attachments": {},
   "cell_type": "markdown",
   "metadata": {},
   "source": [
    "Question 2: Given an integer, add it with the reverse of the value, and check if it’s a palindrome. If it isn’t a palindrome, repeat the process until the sum is a palindrome. Print out the number of iterations and the value of the final palindrome. (https://www.geeksforgeeks.org/reverse-and-add-function/)\n",
    "\n",
    "Example:  \n",
    "Starting Value: 121  \n",
    "Expected Result: 1 242  \n",
    "Add 121 to 121. The sum of 242 is a palindrome  "
   ]
  },
  {
   "cell_type": "code",
   "execution_count": 34,
   "metadata": {},
   "outputs": [
    {
     "name": "stdout",
     "output_type": "stream",
     "text": [
      "1 242\n",
      "4 9339\n",
      "5 45254\n"
     ]
    }
   ],
   "source": [
    "# Method 1: integer mod method\n",
    "def reverseNumber(n):\n",
    "    total = 0\n",
    "    while (n > 0):\n",
    "        digit = n % 10 # 3\n",
    "        total *= 10\n",
    "        if digit != 0:\n",
    "            total += digit\n",
    "        n = n // 10\n",
    "    return total\n",
    "\n",
    "def checkPalindrome(n):\n",
    "    return (n == reverseNumber(n))\n",
    "\n",
    "def revAndAdd(n):\n",
    "    total = None\n",
    "    palindromeBool = False\n",
    "    idx = 0\n",
    "    while (not palindromeBool):\n",
    "        total = n + reverseNumber(n)\n",
    "        if(checkPalindrome(total)):\n",
    "            palindromeBool = True\n",
    "        idx += 1\n",
    "        n = total\n",
    "    return f'{idx} {total}' # 1 242\n",
    "\n",
    "print(revAndAdd(121))\n",
    "print(revAndAdd(195))\n",
    "print(revAndAdd(265))\n",
    "\n",
    "\n",
    "# 123 % 10 = 3\n",
    "#  3\n",
    "# 123 // 10 = 12\n",
    "# 12 % 10 = 2\n",
    "#  3 *10 = 30 + 2 = 32\n",
    "# 12 // 10 = 1\n",
    "#  32*10 = 320 + 1 \n",
    "\n",
    "# 123 -> 321\n",
    "\n"
   ]
  },
  {
   "cell_type": "code",
   "execution_count": 35,
   "metadata": {},
   "outputs": [
    {
     "name": "stdout",
     "output_type": "stream",
     "text": [
      "1 827\n",
      "2 1555\n",
      "3 7106\n",
      "4 13123\n",
      "5 45254\n",
      "5 45254\n"
     ]
    }
   ],
   "source": [
    "# Method 2: String 2 ptr method\n",
    "def reverseNumber(n):\n",
    "    total = 0\n",
    "    while (n > 0):\n",
    "        digit = n % 10 # 3\n",
    "        total *= 10\n",
    "        if digit != 0:\n",
    "            total += digit\n",
    "        n = n // 10\n",
    "    return total\n",
    "\n",
    "def checkPalindrome(n): # 2 ptr method\n",
    "    s = str(n)\n",
    "    i, j = 0, len(s)-1\n",
    "\n",
    "    while (i < j):\n",
    "        if (s[i] != s[j]):\n",
    "            return False\n",
    "        i += 1\n",
    "        j -= 1\n",
    "    return True\n",
    "    \n",
    "    # return (n == reverseNumber(n))\n",
    "\n",
    "def revAndAdd(n):\n",
    "    total = None\n",
    "    palindromeBool = False\n",
    "    idx = 0\n",
    "    while (palindromeBool == False):\n",
    "        total = n + reverseNumber(n)\n",
    "        if(checkPalindrome(total)):\n",
    "            palindromeBool = True\n",
    "        idx += 1\n",
    "        n = total\n",
    "        print(f'{idx} {total}')\n",
    "    return f'{idx} {total}' # 1 242\n",
    "\n",
    "# print(checkPalindrome(121))\n",
    "# print(checkPalindrome(256))\n",
    "\n",
    "# print(reverseNumber(195))\n",
    "# print(reverseNumber(568767676))\n",
    "# print(reverseNumber(78678272))\n",
    "# print(reverseNumber(786752752))\n",
    "# print(reverseNumber(73773873))\n",
    "# print(reverseNumber(197377835))\n",
    "\n",
    "# print(revAndAdd(121))\n",
    "print(revAndAdd(265))\n",
    "# print(revAndAdd(0))\n",
    "# 195 + 591 = 786\n",
    "\n",
    "\n",
    "# 265 + 562 = 827\n",
    "# 827 + 728 = 1555\n",
    "# 7106 + 6017 = 13123\n"
   ]
  },
  {
   "cell_type": "code",
   "execution_count": 36,
   "metadata": {},
   "outputs": [],
   "source": [
    "#code to check for a full binary tree"
   ]
  },
  {
   "attachments": {},
   "cell_type": "markdown",
   "metadata": {},
   "source": [
    "Ashish was copying from Rahit in the exam. So, Rahit told him to change the answers a little bit so that the examiner cannot find the fraud. But silly Ashish in the way started to change all the answers that were needed. He shuffled the letters in each word in a way where the maximum number of letters were misplaced.\n",
    "For a given word, find the maximum difference that Ashish can generate between his answer and Rahit’s answer.\n",
    "Suppose Rahit wrote “car” for an answer, Ashish can write “acr” with difference 2, or “arc” with differnece 3.\n",
    "Note That: The letters are all in lowercase.\n",
    "Input Format:\n",
    "First line containing an integer n, number of words.\n",
    "Then, n numbers of lines as the query words.\n",
    "Output:\n",
    "N number of lines with an integer each denoting possible maximum difference.\n",
    "Sample Input:\n",
    "4\n",
    "abababa -> bababa (max dist = 6)\n",
    "bbj  -> bjb (max dist = 2), jbb (max dist = 2)\n",
    "kj  -> jk (max dist = 2)\n",
    "kk\n",
    "Sample Output:\n",
    "6\n",
    "2\n",
    "2\n",
    "0"
   ]
  },
  {
   "cell_type": "code",
   "execution_count": 37,
   "metadata": {},
   "outputs": [
    {
     "data": {
      "text/plain": [
       "[('abababa', 6), ('bbj', 2), ('kj', 2), ('kk', 0), ('ryanyuulm', 9)]"
      ]
     },
     "execution_count": 37,
     "metadata": {},
     "output_type": "execute_result"
    }
   ],
   "source": [
    "from itertools import permutations\n",
    "def maxDist(original, variation):\n",
    "    counter = 0\n",
    "    for i in range(len(original)):\n",
    "        if original[i] != variation[i]:\n",
    "            counter += 1 \n",
    "    return counter\n",
    "\n",
    "def cheaterDetection(numWords, words):\n",
    "    maxDiff = []\n",
    "    for word in words:\n",
    "        perms = permutations(word)\n",
    "        diff = 0\n",
    "        for p in perms:\n",
    "            diff = max(maxDist(word, p), diff)\n",
    "        maxDiff.append((word, diff))\n",
    "    \n",
    "    return maxDiff\n",
    "\n",
    "\n",
    "cheaterDetection(4, ['abababa', 'bbj', 'kj', 'kk', 'ryanyuulm'])\n",
    "# \n",
    "# car  --> rca (diff = 3)# \n",
    "# 3! variations# \n",
    "# car acr rac# \n",
    "# cra arc rca\n"
   ]
  },
  {
   "cell_type": "code",
   "execution_count": 48,
   "metadata": {},
   "outputs": [
    {
     "data": {
      "text/plain": [
       "[1, 0, 1, 0, 1, 0, 0]"
      ]
     },
     "execution_count": 48,
     "metadata": {},
     "output_type": "execute_result"
    }
   ],
   "source": [
    "# Semester exams are going on for university students. Examiners noticed that a group of\n",
    "#  people are trying to cheat. They marked students of that group as ‘1’ \n",
    "# and students of another group ( who are not cheating ) as ‘0’ \n",
    "\n",
    "# We can reduce cheating by not allowing students from group 1 to sit together, \n",
    "# means no two students from group 1 can sit together. Seatings are marked using \n",
    "# above conditions. Your task is to give the seating placement of nth possibility \n",
    "# Possibility order from 1 to 10 is given below\n",
    "\n",
    "# input = [0,1,1,1,0,1,0,1,0,1]\n",
    "input2 = [0,0,0,1,1,1,0]\n",
    "# -> output all possibilities where two 1's aren't seated together\n",
    "\n",
    "def cheaterSeatingPreventionCheck(students):\n",
    "    hmap = {}\n",
    "    # Edge Case\n",
    "    # dictionary method code up as well\n",
    "    for s in students:\n",
    "        hmap[s] = hmap.get(s,0) + 1\n",
    "    if hmap[1] > hmap[0]: # Not possible\n",
    "        return False, hmap\n",
    "    return True, hmap\n",
    "\n",
    "def cheaterProofSeating(students):\n",
    "    possible, hmap = cheaterSeatingPreventionCheck(students)\n",
    "    if not possible:\n",
    "        return ['Your class stinks']\n",
    "    # Start building seating order\n",
    "\n",
    "    seating = []\n",
    "\n",
    "    while (hmap[1] and hmap[0]):\n",
    "        # alt between 0,1\n",
    "        seating.append(1)\n",
    "        seating.append(0)\n",
    "        hmap[1] -= 1\n",
    "        hmap[0] -= 1\n",
    "    # append rest if not empty\n",
    "    while (hmap[0]):\n",
    "        seating.append(0)\n",
    "        hmap[0] -= 1\n",
    "        \n",
    "    return seating\n",
    "        \n",
    "   \n",
    "cheaterProofSeating(input2)"
   ]
  },
  {
   "attachments": {},
   "cell_type": "markdown",
   "metadata": {},
   "source": [
    "Random Comments:\n",
    "\n",
    "### Reddit:\n",
    " - either 2 LC easy or 1 med and hard\n",
    " - array crap, sorting, binary concepts, etc. that was for me though could be different for you\n",
    " - time spent solving problems plays a factor?\n",
    " - resume not processed unless OA completed\n",
    "\n",
    "### Glassdoor: \n",
    "Interview\n",
    "The interview consisted of 1 coding round followed by 2 Technical and 1 HR round.\n",
    "First-round consisted of 3 coding questions and a few MCQs related to CS. Second and Third round was moreover full focused on DSA and OS concepts. HR round was basically testing your non-technical skills and communication skill\n",
    "Basic data structures, OS, DBMS, Graph, Behavioural questions.\n",
    "\n",
    "\n"
   ]
  }
 ],
 "metadata": {
  "kernelspec": {
   "display_name": "Python 3",
   "language": "python",
   "name": "python3"
  },
  "language_info": {
   "codemirror_mode": {
    "name": "ipython",
    "version": 3
   },
   "file_extension": ".py",
   "mimetype": "text/x-python",
   "name": "python",
   "nbconvert_exporter": "python",
   "pygments_lexer": "ipython3",
   "version": "3.9.1"
  },
  "orig_nbformat": 4
 },
 "nbformat": 4,
 "nbformat_minor": 2
}
