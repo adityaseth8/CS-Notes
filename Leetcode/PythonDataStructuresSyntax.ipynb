{
 "cells": [
  {
   "attachments": {},
   "cell_type": "markdown",
   "metadata": {},
   "source": [
    "# Python Data Structures\n",
    "\n",
    " Time Complexities:\n",
    " ![image.png](TimeComplexities.png)\n",
    " "
   ]
  },
  {
   "attachments": {},
   "cell_type": "markdown",
   "metadata": {},
   "source": [
    "## Hashing \n",
    "Process of mapping keys and values into the hash table using a hash function\n",
    "\n",
    "**Hash Table**: data structure organizing data using hash functions --> OP O(1) insertion and search\n",
    "Hash Table type 1: *Hash Set*: implement set data structure (no repeated values stored, only store values)\n",
    "Hash Table type 2: *Hash Map*: implement map data structure (store (key,value) pairs)"
   ]
  },
  {
   "cell_type": "code",
   "execution_count": null,
   "metadata": {},
   "outputs": [],
   "source": []
  },
  {
   "cell_type": "code",
   "execution_count": 3,
   "metadata": {},
   "outputs": [
    {
     "name": "stdout",
     "output_type": "stream",
     "text": [
      "<class 'list'>\n",
      "[3, 3, 'car', 4.6]\n",
      "<class 'list'>\n",
      "[3, 3, 'car', 4.6, 5]\n"
     ]
    }
   ],
   "source": [
    "# List: ordered, mutable, duplicates allowed, elements can contain different data types\n",
    "list = [3,6,9,12]\n",
    "print(type(list))\n",
    "\n",
    "list = [3, 3, 'car', 4.6]\n",
    "print(list)\n",
    "print(type(list))\n",
    "list.append(5)\n",
    "print(list)"
   ]
  },
  {
   "cell_type": "code",
   "execution_count": 14,
   "metadata": {},
   "outputs": [
    {
     "name": "stdout",
     "output_type": "stream",
     "text": [
      "['steph chef look at curry man' '3' '6']\n",
      "<class 'numpy.ndarray'>\n",
      "[ 3  5  7  9 11]\n",
      "\n",
      "\n",
      "array('i', [1, 2, 3, 5])\n",
      "<class 'array.array'>\n"
     ]
    }
   ],
   "source": [
    "# Array: ordered, mutable, duplicated allowed, also square brackets.\n",
    "# need to import numpy as np (supports different data types), or array as arr (requires all array elements to be of same type)\n",
    "import numpy as np\n",
    "arr1 = np.array([\"steph chef look at curry man\", 3, 6])\n",
    "arr1i = np.array([1,2,3,4,5])\n",
    "print(arr1)\n",
    "print(type(arr1))\n",
    "arr1i = arr1i*2 + 1\n",
    "print(arr1i)\n",
    "\n",
    "\n",
    "print('\\n')\n",
    "\n",
    "import array as arr\n",
    "arr2 = arr.array(\"i\", [1,2,3,5])    # i signifies integer type\n",
    "print(arr2)\n",
    "print(type(arr2))"
   ]
  },
  {
   "attachments": {},
   "cell_type": "markdown",
   "metadata": {},
   "source": [
    "**Array vs List**\n",
    " - Arrays need to be declared, unlike lists\n",
    " - Arrays more efficient for storing large amounts of data (stores data very compactly)\n",
    " - Arrays better for numerical operations, lists can't handle math operations directly (would have to loop through each element, do math operation)\n",
    "\n",
    " - **Use list when** storing short sequence of items, not planning on doing math with it. So that no need to import extra packages\n",
    " - **Use array when **\n"
   ]
  },
  {
   "cell_type": "code",
   "execution_count": null,
   "metadata": {},
   "outputs": [],
   "source": []
  },
  {
   "attachments": {},
   "cell_type": "markdown",
   "metadata": {},
   "source": [
    "**Stack**\n",
    "\n",
    "<span> not python syntax</span>\n",
    "empty(): O(1)\n",
    "size(): O(1)\n",
    "top(): O(1) , return referent to topmost element\n",
    "push(a): O(1), insert element to top of stack\n",
    "pop(): O(1)\n",
    "\n",
    "Stack in Python can be implemented using the following ways: \n",
    "\n",
    "list\n",
    "Collections.deque\n",
    "queue.LifoQueue"
   ]
  },
  {
   "attachments": {},
   "cell_type": "markdown",
   "metadata": {},
   "source": [
    "**Queue**\n",
    "\n",
    "**Deque**\n",
    "\n",
    "**Linked List**"
   ]
  },
  {
   "cell_type": "code",
   "execution_count": 3,
   "metadata": {},
   "outputs": [
    {
     "name": "stdout",
     "output_type": "stream",
     "text": [
      "3\n",
      "3.5\n"
     ]
    }
   ],
   "source": [
    "# Random Python Syntax:\n",
    "\n",
    "# // is floor operator\n",
    "# / is regular divison\n",
    "\n",
    "print(7 // 2)\n",
    "print(7 / 2)"
   ]
  },
  {
   "cell_type": "code",
   "execution_count": null,
   "metadata": {},
   "outputs": [],
   "source": []
  }
 ],
 "metadata": {
  "kernelspec": {
   "display_name": "Python 3",
   "language": "python",
   "name": "python3"
  },
  "language_info": {
   "codemirror_mode": {
    "name": "ipython",
    "version": 3
   },
   "file_extension": ".py",
   "mimetype": "text/x-python",
   "name": "python",
   "nbconvert_exporter": "python",
   "pygments_lexer": "ipython3",
   "version": "3.9.1"
  },
  "orig_nbformat": 4
 },
 "nbformat": 4,
 "nbformat_minor": 2
}
