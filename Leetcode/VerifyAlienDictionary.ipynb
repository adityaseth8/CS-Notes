{
 "cells": [
  {
   "attachments": {},
   "cell_type": "markdown",
   "metadata": {},
   "source": [
    "# Verifying an Alien Dictionary\n",
    "\n",
    "### LC Easy\n",
    "\n",
    "### Facbook Most Popular Question 2020, 2021\n",
    "\n",
    "In an alien language, surprisingly, they also use English lowercase letters, but possibly in a different order. The order of the alphabet is some permutation of lowercase letters.\n",
    "\n",
    "Given a sequence of words written in the alien language, and the order of the alphabet, return true if and only if the given words are sorted lexicographically in this alien language.'\n",
    "\n",
    "Example 1:  \n",
    "Input: words = [\"hello\",\"leetcode\"], order = \"hlabcdefgijkmnopqrstuvwxyz\"  \n",
    "Output: true  \n",
    "Explanation: As 'h' comes before 'l' in this language, then the sequence is sorted.  \n"
   ]
  },
  {
   "cell_type": "code",
   "execution_count": null,
   "metadata": {},
   "outputs": [],
   "source": [
    "# Map custom alphabet order to hashmap (ranking of order), iteratively compare two words\n",
    "\n",
    "class Solution(object):\n",
    "    def isAlienSorted(self, words, order):\n",
    "        \n",
    "        # edge case handle\n",
    "        if len(words) == 1:\n",
    "            return True\n",
    "\n",
    "        # map order to hashmap, key is ch, val is index\n",
    "        hashmap = {}\n",
    "        for i, ch in enumerate(order):\n",
    "            hashmap[ch] = i\n",
    "\n",
    "\n",
    "        # loop through, make comparisons\n",
    "        for idx in range(len(words)-1): # just want index\n",
    "            word1 = words[idx]\n",
    "            word2 = words[idx+1]\n",
    "            shorterWord = min(len(word1), len(word2))            \n",
    "            for ch in range(shorterWord):\n",
    "                if hashmap[word1[ch]] < hashmap[word2[ch]]: # a < b\n",
    "                    break\n",
    "                elif hashmap[word1[ch]] > hashmap[word2[ch]]: # b > a\n",
    "                    return False\n",
    "                elif ((ch == shorterWord -1) and (len(word1) > len(word2))):\n",
    "                    # if at last character of smaller word, and still more letters left in word2, return False\n",
    "                    return False\n",
    "        return True "
   ]
  },
  {
   "cell_type": "code",
   "execution_count": null,
   "metadata": {},
   "outputs": [],
   "source": []
  }
 ],
 "metadata": {
  "language_info": {
   "name": "python"
  },
  "orig_nbformat": 4
 },
 "nbformat": 4,
 "nbformat_minor": 2
}
