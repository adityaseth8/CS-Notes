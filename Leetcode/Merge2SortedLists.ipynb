{
 "cells": [
  {
   "attachments": {},
   "cell_type": "markdown",
   "metadata": {},
   "source": [
    "# Merge Two Sorted Lists\n",
    "\n",
    "### LC Easy\n",
    "You are given the heads of two sorted linked lists list1 and list2.\n",
    "\n",
    "Merge the two lists in a one sorted list. The list should be made by splicing together the nodes of the first two lists.\n",
    "\n",
    "Return the head of the merged linked list.\n",
    "\n",
    "**Initial approach:** start at head of each linked list,compare 2 values, choose lowest val, put into result linked list. Move ptr to next val. Continue until end of one of the linked lists reached, and then append rest of other linked list to end of result linked list    "
   ]
  },
  {
   "cell_type": "code",
   "execution_count": null,
   "metadata": {},
   "outputs": [],
   "source": [
    "# Definition for singly-linked list.\n",
    "class ListNode(object):\n",
    "    def __init__(self, val=0, next=None):\n",
    "        self.val = val\n",
    "        self.next = next\n",
    "\n",
    "class Solution(object):\n",
    "    def mergeTwoLists(self, list1, list2):\n",
    "        dummy = ListNode()  # creating dummy node?\n",
    "        tail = dummy\n",
    "\n",
    "        while (list1 and list2): # while both are not empty\n",
    "            if (list1.val <= list2.val):\n",
    "                tail.next = list1   # append entire node, not just value\n",
    "                list1 = list1.next  # update\n",
    "            else:\n",
    "                tail.next = list2\n",
    "                list2 = list2.next\n",
    "            tail = tail.next\n",
    "        \n",
    "        # check which list is not empty\n",
    "        if (list1):\n",
    "            # append rest of list1 to return list\n",
    "            tail.next = list1\n",
    "        elif (list2):\n",
    "            tail.next = list2\n",
    "        return dummy.next\n",
    "\n",
    "        \"\"\"\n",
    "        :type list1: Optional[ListNode]\n",
    "        :type list2: Optional[ListNode]\n",
    "        :rtype: Optional[ListNode]\n",
    "        \"\"\""
   ]
  }
 ],
 "metadata": {
  "kernelspec": {
   "display_name": "Python 3",
   "language": "python",
   "name": "python3"
  },
  "language_info": {
   "name": "python",
   "version": "3.9.1"
  },
  "orig_nbformat": 4
 },
 "nbformat": 4,
 "nbformat_minor": 2
}
