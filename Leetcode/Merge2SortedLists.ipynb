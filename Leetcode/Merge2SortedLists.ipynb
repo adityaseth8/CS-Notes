{
 "cells": [
  {
   "attachments": {},
   "cell_type": "markdown",
   "metadata": {},
   "source": [
    "# Merge Two Sorted Lists\n",
    "\n",
    "### LC Easy\n",
    "You are given the heads of two sorted linked lists list1 and list2.\n",
    "\n",
    "Merge the two lists in a one sorted list. The list should be made by splicing together the nodes of the first two lists.\n",
    "\n",
    "Return the head of the merged linked list.\n",
    "\n",
    "**Initial approach:** start at head of each linked list,compare 2 values, choose lowest val, put into result linked list. Move ptr to next val. Continue until end of one of the linked lists reached, and then append rest of other linked list to end of result linked list    "
   ]
  },
  {
   "cell_type": "code",
   "execution_count": null,
   "metadata": {},
   "outputs": [],
   "source": [
    "# Definition for singly-linked list.\n",
    "class ListNode(object):\n",
    "    def __init__(self, val=0, next=None):\n",
    "        self.val = val\n",
    "        self.next = next\n",
    "\n",
    "\n",
    "class Solution(object):\n",
    "    def mergeTwoLists(self, list1, list2):\n",
    "        dummy = ListNode()  # Neetcode: creating dummy node to act as head\n",
    "        tail = dummy\n",
    "\n",
    "        while (list1 and list2): # while both are not empty\n",
    "            if (list1.val <= list2.val):\n",
    "                tail.next = list1   # append entire node, not just value\n",
    "                list1 = list1.next  # update\n",
    "            else:\n",
    "                tail.next = list2\n",
    "                list2 = list2.next\n",
    "            tail = tail.next\n",
    "        \n",
    "        # check which list is not empty\n",
    "        if (list1):\n",
    "            # append rest of list1 to return list\n",
    "            tail.next = list1\n",
    "        elif (list2):\n",
    "            tail.next = list2\n",
    "        return dummy.next \n",
    "\n",
    "        \"\"\"\n",
    "        :type list1: Optional[ListNode]\n",
    "        :type list2: Optional[ListNode]\n",
    "        :rtype: Optional[ListNode]\n",
    "        \"\"\""
   ]
  },
  {
   "cell_type": "code",
   "execution_count": 1,
   "metadata": {},
   "outputs": [],
   "source": [
    "# Ryan Solution:\n",
    "\n",
    "class Solution:\n",
    "    def mergeTwoLists(self, list1: Optional[ListNode], list2: Optional[ListNode]) -> Optional[ListNode]:\n",
    "        newHead, cur, h1, h2 = ListNode(), None, list1, list2\n",
    "\n",
    "        if not h1:\n",
    "            return h2\n",
    "    \n",
    "        if not h2:\n",
    "            return h1\n",
    "\n",
    "        if h1.val < h2.val:\n",
    "            cur = h1\n",
    "            newHead.next = cur\n",
    "            h1 = h1.next\n",
    "        else:\n",
    "            cur = h2\n",
    "            newHead.next = cur\n",
    "            h2 = h2.next\n",
    "\n",
    "        while (h1 and h2):\n",
    "            if h1.val < h2.val:\n",
    "                cur.next = h1\n",
    "                h1 = h1.next\n",
    "            else:\n",
    "                cur.next = h2\n",
    "                h2 = h2.next\n",
    "            cur = cur.next\n",
    "\n",
    "        if h1:\n",
    "            cur.next = h1\n",
    "        elif h2:\n",
    "            cur.next = h2\n",
    "            \n",
    "        return newHead.next\n"
   ]
  }
 ],
 "metadata": {
  "kernelspec": {
   "display_name": "Python 3",
   "language": "python",
   "name": "python3"
  },
  "language_info": {
   "codemirror_mode": {
    "name": "ipython",
    "version": 3
   },
   "file_extension": ".py",
   "mimetype": "text/x-python",
   "name": "python",
   "nbconvert_exporter": "python",
   "pygments_lexer": "ipython3",
   "version": "3.9.1"
  },
  "orig_nbformat": 4
 },
 "nbformat": 4,
 "nbformat_minor": 2
}
