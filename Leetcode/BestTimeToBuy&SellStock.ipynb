{
 "cells": [
  {
   "attachments": {},
   "cell_type": "markdown",
   "metadata": {},
   "source": [
    "# Best Time to Buy and Sell Stock\n",
    "\n",
    "### LC Easy\n",
    "\n",
    "You are given an array prices where prices[i] is the price of a given stock on the ith day.\n",
    "\n",
    "You want to maximize your profit by choosing a single day to buy one stock and choosing a different day in the future to sell that stock.\n",
    "\n",
    "Return the maximum profit you can achieve from this transaction. If you cannot achieve any profit, return 0.\n",
    "\n",
    "Input: prices = [7,1,5,3,6,4]  \n",
    "Output: 5  \n",
    "Explanation: Buy on day 2 (price = 1) and sell on day 5 (price = 6), profit = 6-1 = 5.  \n",
    "\n"
   ]
  },
  {
   "cell_type": "code",
   "execution_count": null,
   "metadata": {},
   "outputs": [],
   "source": [
    "class Solution(object):\n",
    "    def maxProfit(self, prices):\n",
    "    \n",
    "        buyPtr, sellPtr = 0,1\n",
    "        maxProfit = 0\n",
    "\n",
    "        while (sellPtr <= len(prices)-1):\n",
    "            currProfit = prices[sellPtr] - prices[buyPtr]\n",
    "            if (currProfit < 0):    # neg profit meaning new minPrice found\n",
    "                buyPtr = sellPtr\n",
    "            else:\n",
    "                maxProfit = max(currProfit, maxProfit)\n",
    "            sellPtr += 1\n",
    "        return maxProfit"
   ]
  },
  {
   "cell_type": "code",
   "execution_count": null,
   "metadata": {},
   "outputs": [],
   "source": [
    "class Solution(object):\n",
    "    def maxProfit(self, prices):\n",
    "        i,j = 0,1\n",
    "        maxProfit = 0\n",
    "        minPrice = prices[0] # issue if prices array is empty\n",
    "        while (i<j and j < len(prices)):\n",
    "            profit = prices[j] - prices[i]\n",
    "            if profit > 0:\n",
    "                maxProfit = max(profit,maxProfit)\n",
    "            if (prices[j] < minPrice):\n",
    "                minPrice = prices[j]\n",
    "                i = j     \n",
    "            j += 1\n",
    "        return maxProfit\n",
    "\n",
    "\n",
    "      "
   ]
  }
 ],
 "metadata": {
  "language_info": {
   "name": "python"
  },
  "orig_nbformat": 4
 },
 "nbformat": 4,
 "nbformat_minor": 2
}
